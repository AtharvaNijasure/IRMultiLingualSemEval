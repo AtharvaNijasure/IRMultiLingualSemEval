{
 "cells": [
  {
   "cell_type": "code",
   "execution_count": 7,
   "id": "ac7d1a24-2715-4455-9050-b5d6f657bbd9",
   "metadata": {},
   "outputs": [
    {
     "name": "stderr",
     "output_type": "stream",
     "text": [
      "huggingface/tokenizers: The current process just got forked, after parallelism has already been used. Disabling parallelism to avoid deadlocks...\n",
      "To disable this warning, you can either:\n",
      "\t- Avoid using `tokenizers` before the fork if possible\n",
      "\t- Explicitly set the environment variable TOKENIZERS_PARALLELISM=(true | false)\n"
     ]
    },
    {
     "name": "stdout",
     "output_type": "stream",
     "text": [
      "Defaulting to user installation because normal site-packages is not writeable\n",
      "Requirement already satisfied: sentence_transformers in /home/anijasure_umass_edu/.local/lib/python3.11/site-packages (3.3.1)\n",
      "Requirement already satisfied: transformers<5.0.0,>=4.41.0 in /home/anijasure_umass_edu/.local/lib/python3.11/site-packages (from sentence_transformers) (4.46.0)\n",
      "Requirement already satisfied: tqdm in /home/anijasure_umass_edu/.local/lib/python3.11/site-packages (from sentence_transformers) (4.66.5)\n",
      "Requirement already satisfied: torch>=1.11.0 in /home/anijasure_umass_edu/.local/lib/python3.11/site-packages (from sentence_transformers) (2.5.0)\n",
      "Requirement already satisfied: scikit-learn in /home/anijasure_umass_edu/.local/lib/python3.11/site-packages (from sentence_transformers) (1.5.2)\n",
      "Requirement already satisfied: scipy in /home/anijasure_umass_edu/.local/lib/python3.11/site-packages (from sentence_transformers) (1.14.1)\n",
      "Requirement already satisfied: huggingface-hub>=0.20.0 in /home/anijasure_umass_edu/.local/lib/python3.11/site-packages (from sentence_transformers) (0.26.1)\n",
      "Requirement already satisfied: Pillow in /modules/apps/ood/jupyterlab-matlab/lib/python3.11/site-packages (from sentence_transformers) (10.2.0)\n",
      "Requirement already satisfied: filelock in /home/anijasure_umass_edu/.local/lib/python3.11/site-packages (from huggingface-hub>=0.20.0->sentence_transformers) (3.16.1)\n",
      "Requirement already satisfied: fsspec>=2023.5.0 in /home/anijasure_umass_edu/.local/lib/python3.11/site-packages (from huggingface-hub>=0.20.0->sentence_transformers) (2024.9.0)\n",
      "Requirement already satisfied: packaging>=20.9 in /modules/apps/ood/jupyterlab-matlab/lib/python3.11/site-packages (from huggingface-hub>=0.20.0->sentence_transformers) (22.0)\n",
      "Requirement already satisfied: pyyaml>=5.1 in /modules/apps/ood/jupyterlab-matlab/lib/python3.11/site-packages (from huggingface-hub>=0.20.0->sentence_transformers) (6.0)\n",
      "Requirement already satisfied: requests in /home/anijasure_umass_edu/.local/lib/python3.11/site-packages (from huggingface-hub>=0.20.0->sentence_transformers) (2.32.3)\n",
      "Requirement already satisfied: typing-extensions>=3.7.4.3 in /home/anijasure_umass_edu/.local/lib/python3.11/site-packages (from huggingface-hub>=0.20.0->sentence_transformers) (4.12.2)\n",
      "Requirement already satisfied: networkx in /home/anijasure_umass_edu/.local/lib/python3.11/site-packages (from torch>=1.11.0->sentence_transformers) (3.4.2)\n",
      "Requirement already satisfied: jinja2 in /modules/apps/ood/jupyterlab-matlab/lib/python3.11/site-packages (from torch>=1.11.0->sentence_transformers) (3.1.2)\n",
      "Requirement already satisfied: nvidia-cuda-nvrtc-cu12==12.4.127 in /home/anijasure_umass_edu/.local/lib/python3.11/site-packages (from torch>=1.11.0->sentence_transformers) (12.4.127)\n",
      "Requirement already satisfied: nvidia-cuda-runtime-cu12==12.4.127 in /home/anijasure_umass_edu/.local/lib/python3.11/site-packages (from torch>=1.11.0->sentence_transformers) (12.4.127)\n",
      "Requirement already satisfied: nvidia-cuda-cupti-cu12==12.4.127 in /home/anijasure_umass_edu/.local/lib/python3.11/site-packages (from torch>=1.11.0->sentence_transformers) (12.4.127)\n",
      "Requirement already satisfied: nvidia-cudnn-cu12==9.1.0.70 in /home/anijasure_umass_edu/.local/lib/python3.11/site-packages (from torch>=1.11.0->sentence_transformers) (9.1.0.70)\n",
      "Requirement already satisfied: nvidia-cublas-cu12==12.4.5.8 in /home/anijasure_umass_edu/.local/lib/python3.11/site-packages (from torch>=1.11.0->sentence_transformers) (12.4.5.8)\n",
      "Requirement already satisfied: nvidia-cufft-cu12==11.2.1.3 in /home/anijasure_umass_edu/.local/lib/python3.11/site-packages (from torch>=1.11.0->sentence_transformers) (11.2.1.3)\n",
      "Requirement already satisfied: nvidia-curand-cu12==10.3.5.147 in /home/anijasure_umass_edu/.local/lib/python3.11/site-packages (from torch>=1.11.0->sentence_transformers) (10.3.5.147)\n",
      "Requirement already satisfied: nvidia-cusolver-cu12==11.6.1.9 in /home/anijasure_umass_edu/.local/lib/python3.11/site-packages (from torch>=1.11.0->sentence_transformers) (11.6.1.9)\n",
      "Requirement already satisfied: nvidia-cusparse-cu12==12.3.1.170 in /home/anijasure_umass_edu/.local/lib/python3.11/site-packages (from torch>=1.11.0->sentence_transformers) (12.3.1.170)\n",
      "Requirement already satisfied: nvidia-nccl-cu12==2.21.5 in /home/anijasure_umass_edu/.local/lib/python3.11/site-packages (from torch>=1.11.0->sentence_transformers) (2.21.5)\n",
      "Requirement already satisfied: nvidia-nvtx-cu12==12.4.127 in /home/anijasure_umass_edu/.local/lib/python3.11/site-packages (from torch>=1.11.0->sentence_transformers) (12.4.127)\n",
      "Requirement already satisfied: nvidia-nvjitlink-cu12==12.4.127 in /home/anijasure_umass_edu/.local/lib/python3.11/site-packages (from torch>=1.11.0->sentence_transformers) (12.4.127)\n",
      "Requirement already satisfied: triton==3.1.0 in /home/anijasure_umass_edu/.local/lib/python3.11/site-packages (from torch>=1.11.0->sentence_transformers) (3.1.0)\n",
      "Requirement already satisfied: sympy==1.13.1 in /home/anijasure_umass_edu/.local/lib/python3.11/site-packages (from torch>=1.11.0->sentence_transformers) (1.13.1)\n",
      "Requirement already satisfied: mpmath<1.4,>=1.1.0 in /home/anijasure_umass_edu/.local/lib/python3.11/site-packages (from sympy==1.13.1->torch>=1.11.0->sentence_transformers) (1.3.0)\n",
      "Requirement already satisfied: numpy>=1.17 in /modules/apps/ood/jupyterlab-matlab/lib/python3.11/site-packages (from transformers<5.0.0,>=4.41.0->sentence_transformers) (1.26.4)\n",
      "Requirement already satisfied: regex!=2019.12.17 in /home/anijasure_umass_edu/.local/lib/python3.11/site-packages (from transformers<5.0.0,>=4.41.0->sentence_transformers) (2024.9.11)\n",
      "Requirement already satisfied: safetensors>=0.4.1 in /home/anijasure_umass_edu/.local/lib/python3.11/site-packages (from transformers<5.0.0,>=4.41.0->sentence_transformers) (0.4.5)\n",
      "Requirement already satisfied: tokenizers<0.21,>=0.20 in /home/anijasure_umass_edu/.local/lib/python3.11/site-packages (from transformers<5.0.0,>=4.41.0->sentence_transformers) (0.20.1)\n",
      "Requirement already satisfied: joblib>=1.2.0 in /home/anijasure_umass_edu/.local/lib/python3.11/site-packages (from scikit-learn->sentence_transformers) (1.4.2)\n",
      "Requirement already satisfied: threadpoolctl>=3.1.0 in /home/anijasure_umass_edu/.local/lib/python3.11/site-packages (from scikit-learn->sentence_transformers) (3.5.0)\n",
      "Requirement already satisfied: MarkupSafe>=2.0 in /modules/apps/ood/jupyterlab-matlab/lib/python3.11/site-packages (from jinja2->torch>=1.11.0->sentence_transformers) (2.1.1)\n",
      "Requirement already satisfied: charset-normalizer<4,>=2 in /modules/apps/ood/jupyterlab-matlab/lib/python3.11/site-packages (from requests->huggingface-hub>=0.20.0->sentence_transformers) (2.1.1)\n",
      "Requirement already satisfied: idna<4,>=2.5 in /modules/apps/ood/jupyterlab-matlab/lib/python3.11/site-packages (from requests->huggingface-hub>=0.20.0->sentence_transformers) (3.4)\n",
      "Requirement already satisfied: urllib3<3,>=1.21.1 in /modules/apps/ood/jupyterlab-matlab/lib/python3.11/site-packages (from requests->huggingface-hub>=0.20.0->sentence_transformers) (1.26.13)\n",
      "Requirement already satisfied: certifi>=2017.4.17 in /modules/apps/ood/jupyterlab-matlab/lib/python3.11/site-packages (from requests->huggingface-hub>=0.20.0->sentence_transformers) (2024.2.2)\n"
     ]
    },
    {
     "name": "stderr",
     "output_type": "stream",
     "text": [
      "huggingface/tokenizers: The current process just got forked, after parallelism has already been used. Disabling parallelism to avoid deadlocks...\n",
      "To disable this warning, you can either:\n",
      "\t- Avoid using `tokenizers` before the fork if possible\n",
      "\t- Explicitly set the environment variable TOKENIZERS_PARALLELISM=(true | false)\n"
     ]
    },
    {
     "name": "stdout",
     "output_type": "stream",
     "text": [
      "Defaulting to user installation because normal site-packages is not writeable\n",
      "Requirement already satisfied: pytrec_eval in /home/anijasure_umass_edu/.local/lib/python3.11/site-packages (0.5)\n"
     ]
    }
   ],
   "source": [
    "!pip install sentence_transformers\n",
    "!pip install pytrec_eval"
   ]
  },
  {
   "cell_type": "code",
   "execution_count": 8,
   "id": "451a08f6-cec7-4f62-b04a-d1161575f741",
   "metadata": {},
   "outputs": [],
   "source": [
    "from create_faiss_index import create_and_store_dense_index_approx\n",
    "import pandas as pd\n",
    "from run_query_faiss import query_dense_index\n",
    "from sentence_transformers import SentenceTransformer\n",
    "from dataloader import get_data\n",
    "from tqdm import tqdm\n",
    "import pytrec_eval\n",
    "import os\n",
    "import json"
   ]
  },
  {
   "cell_type": "code",
   "execution_count": 18,
   "id": "994b0b37-b8b2-42fe-b1b7-78a7a0add99e",
   "metadata": {},
   "outputs": [],
   "source": [
    "# # Example Usage\n",
    "# # documents = [\n",
    "# #     \"The quick brown fox jumps over the lazy dog.\",\n",
    "# #     \"Sentence embeddings are useful for dense retrieval.\",\n",
    "# #     \"LaBSE is a multilingual model for sentence embeddings.\"\n",
    "# # ]\n",
    "\n",
    "tasks = [\"monolingual\",\"crosslingual\"]\n",
    "splits = [\"train\", \"dev\"]\n",
    "models = [\n",
    "    [\"sentence-transformers/msmarco-bert-co-condensor\"],[\"facebook-dpr-ctx_encoder-single-nq-base\",\"facebook-dpr-question_encoder-single-nq-base\"],\n",
    "    [\"sentence-transformers/distiluse-base-multilingual-cased-v2\"],[\"\"]\n",
    "]\n",
    "model_names = [\"bert_codensor\",\"fb_dpr\" , \"distiluse_multilingual_v2\"]\n",
    "model_name = \"sentence-transformers/msmarco-bert-co-condensor\"\n",
    "model_name_short = \"distiluse_multilingual_v2\"\n",
    "\n",
    "bert_multilingual = \"amberoad/bert-multilingual-passage-reranking-msmarco\"\n",
    "\n",
    "model_name = bert_multilingual#  \"sentence-transformers/distiluse-base-multilingual-cased-v2\"\n",
    "model_name_query = bert_multilingual #\"sentence-transformers/msmarco-bert-co-condensor\"\n",
    "# model_name_short = \"distiluse_multilingual_v2\"\n",
    "model_name_short_query = f\"{model_name_short}_query\"\n",
    "\n",
    "\n",
    "\n",
    "\n",
    "create_and_store_index = True\n",
    "\n",
    "\n",
    "\n",
    "TASK = \"monolingual\"\n",
    "SPLIT = \"train\"\n",
    "# Get documents as a list of fact-checks from docs_monolingual.csv\n",
    "doc_csv_path = \"final_expanded_docs_monolingual_train.csv\" #\"final_expanded_docs_crosslingual_dev.csv\" # f\"docs_{TASK}_{SPLIT}.csv\"\n",
    "query_csv_path = f\"queries_{TASK}_{SPLIT}.csv\"\n",
    "df_documents = pd.read_csv(doc_csv_path)\n",
    "df_documents['ext_doc'] = df_documents['doc'] + \" \" + df_documents['expanded_doc']\n",
    "documents = df_documents['ext_doc'].astype(str).tolist()\n",
    "\n",
    "output_directory = f\"{TASK}_{SPLIT}_dense_index_{model_name_short}_ivf\"\n",
    "FINAL_OUTPUT_DIR = f'{model_name_short}_{TASK}_{SPLIT}'\n",
    "\n",
    "device = \"cuda\"\n",
    "\n",
    "# Index path \n",
    "index_path = f\"{output_directory}/faiss_index_ivf\"\n",
    "metadata_path = f\"{output_directory}/metadata.pkl\"\n",
    "\n",
    "## save results\n",
    "if not os.path.exists(FINAL_OUTPUT_DIR):\n",
    "    os.makedirs(FINAL_OUTPUT_DIR)\n"
   ]
  },
  {
   "cell_type": "code",
   "execution_count": 19,
   "id": "f892a862-0b56-45e7-bb6b-4b34a12bdb5c",
   "metadata": {},
   "outputs": [
    {
     "name": "stderr",
     "output_type": "stream",
     "text": [
      "No sentence-transformers model found with name amberoad/bert-multilingual-passage-reranking-msmarco. Creating a new one with mean pooling.\n"
     ]
    },
    {
     "name": "stdout",
     "output_type": "stream",
     "text": [
      "Encoding documents...\n"
     ]
    },
    {
     "data": {
      "application/vnd.jupyter.widget-view+json": {
       "model_id": "f1fffa7f553f4d4fb560bfc4f8e4b055",
       "version_major": 2,
       "version_minor": 0
      },
      "text/plain": [
       "Batches:   0%|          | 0/2680 [00:00<?, ?it/s]"
      ]
     },
     "metadata": {},
     "output_type": "display_data"
    },
    {
     "name": "stdout",
     "output_type": "stream",
     "text": [
      "Creating FAISS IndexIVFFlat...\n",
      "Training FAISS index...\n",
      "Saving FAISS index to monolingual_train_dense_index_distiluse_multilingual_v2_ivf/faiss_index_ivf...\n",
      "Saving metadata to monolingual_train_dense_index_distiluse_multilingual_v2_ivf/metadata.pkl...\n",
      "Index and metadata successfully saved.\n"
     ]
    }
   ],
   "source": [
    "create_and_store_dense_index_approx(documents, model_name, output_directory)\n"
   ]
  },
  {
   "cell_type": "code",
   "execution_count": 20,
   "id": "45e4390c-881e-4980-8873-a0e8ad4b9553",
   "metadata": {},
   "outputs": [
    {
     "name": "stderr",
     "output_type": "stream",
     "text": [
      "No sentence-transformers model found with name amberoad/bert-multilingual-passage-reranking-msmarco. Creating a new one with mean pooling.\n"
     ]
    }
   ],
   "source": [
    "\n",
    "# Load the model\n",
    "model = SentenceTransformer(model_name_query)\n",
    "model = model.to(device)\n",
    "    \n",
    "\n",
    "\n",
    "# Document csv\n",
    "df_docs = pd.read_csv(doc_csv_path)\n",
    "doc_ids = df_docs['doc_ids'].tolist()\n",
    "\n",
    "# Query csv \n",
    "df_queries = pd.read_csv(query_csv_path)\n",
    "query_ids = df_queries['query_ids'].tolist()\n",
    " \n",
    "# df_fact_check_post_mapping\n",
    "_, _, df_fact_check_post_mapping = get_data('./data')\n",
    "\n",
    "\n",
    "\n"
   ]
  },
  {
   "cell_type": "code",
   "execution_count": 21,
   "id": "7e8638fd-2b4e-4414-b136-c296f2c67395",
   "metadata": {},
   "outputs": [
    {
     "name": "stderr",
     "output_type": "stream",
     "text": [
      "100%|██████████| 4351/4351 [08:22<00:00,  8.66it/s]"
     ]
    },
    {
     "name": "stdout",
     "output_type": "stream",
     "text": [
      "Average scores:\n",
      "{'P_3': 0.006358691488546687, 'P_5': 0.0056079062284532175, 'P_10': 0.004091013560101123, 'map_cut_3': 0.010320743634924284, 'map_cut_5': 0.011938187900610336, 'map_cut_10': 0.013327243995481195, 'ndcg_cut_3': 0.01220544045343359, 'ndcg_cut_5': 0.015139086499540934, 'ndcg_cut_10': 0.018590973758298695}\n"
     ]
    },
    {
     "name": "stderr",
     "output_type": "stream",
     "text": [
      "\n"
     ]
    }
   ],
   "source": [
    "\n",
    "# Metrics\n",
    "metrics=['P_3', 'P_5', 'P_10', 'map_cut_3', 'map_cut_5', 'map_cut_10', 'ndcg_cut_3', 'ndcg_cut_5', 'ndcg_cut_10']\n",
    "average_scores = {metric: 0.0 for metric in metrics}\n",
    "\n",
    "\n",
    "\n",
    "\n",
    "count = 0\n",
    "\n",
    "for _, row in tqdm(df_queries.iterrows(), total=len(df_queries)):\n",
    "        \n",
    "        qrels = {}\n",
    "        runs = {}\n",
    "        \n",
    "        query = row['query']\n",
    "        idx = query_ids[count] \n",
    "        \n",
    "        #print(\"Query:\", query)\n",
    "        #print(\"Query Id:\", idx)\n",
    "        \n",
    "        # Results from dense multilingual model \n",
    "        results = query_dense_index(query, model, index_path, metadata_path, top_k=10)\n",
    "\n",
    "        ranked_fact_checks = []\n",
    "        ranked_fact_checks_scores = []\n",
    "        \n",
    "        for rank, (doc, score) in enumerate(results, start=1):\n",
    "            \n",
    "            doc_id = doc_ids[doc]\n",
    "            #print(\"Doc_id\", doc_id)\n",
    "            ranked_fact_checks.append(doc_id) \n",
    "            ranked_fact_checks_scores.append(score)\n",
    "            \n",
    "            #runs[str(idx)][str(doc_id)] = score \n",
    "            #print(f\"Rank {rank}: {doc} (Score: {score})\")\n",
    "        \n",
    "        \n",
    "        runs[str(idx)] = {}\n",
    "        qrels[str(idx)] = {} \n",
    "        \n",
    "        for fc_id, score in zip(ranked_fact_checks, ranked_fact_checks_scores):\n",
    "            runs[str(idx)][str(fc_id)] = float(score) \n",
    "        \n",
    "        \n",
    "        ground_truth = df_fact_check_post_mapping[\n",
    "            df_fact_check_post_mapping['post_id'] == idx\n",
    "        ]['fact_check_id'].tolist()\n",
    "\n",
    "        ## keys must be strings\n",
    "        for fc_id in ground_truth:\n",
    "            qrels[str(idx)][str(fc_id)] = 1\n",
    "        \n",
    "        \n",
    "        #qrels = {str(k): {str(d): v for d, v in docs.items()} for k, docs in qrels.items()}\n",
    "        #run = {str(k): {str(d): v for d, v in docs.items()} for k, docs in runs.items()}\n",
    "\n",
    "        #print(\"Metrics\",metrics)\n",
    "\n",
    "        evaluator = pytrec_eval.RelevanceEvaluator(qrels, metrics)\n",
    "        #print(\"Evaluator\", evaluator)\n",
    "        \n",
    "        #print(\"Qrels:\", qrels)\n",
    "        #print(\"Qrels type\", type(qrels))\n",
    "        #print(\"Runs:\", runs)\n",
    "        #print(\"Runs type\", type(runs))\n",
    "        results_scores = evaluator.evaluate(runs)\n",
    "\n",
    "        #print(\"Results\", results_scores)\n",
    "\n",
    "        for query_id in results_scores:\n",
    "            for metric in metrics:\n",
    "                average_scores[metric] += results_scores[query_id][metric]\n",
    "\n",
    "        with open(f\"{FINAL_OUTPUT_DIR}/{model_name_short}_{TASK}_intermediate_scores_{count}.json\", 'w') as f1:\n",
    "            json.dump(average_scores, f1, indent=1)\n",
    "\n",
    "        count = count + 1 \n",
    "        # if count == 5:\n",
    "        #     break\n",
    "\n",
    "        \n",
    "\n",
    "for metric in average_scores:\n",
    "    average_scores[metric] /= count\n",
    "\n",
    "print(\"Average scores:\")\n",
    "print(average_scores)\n",
    "\n",
    "\n",
    "\n",
    "with open(f\"{FINAL_OUTPUT_DIR}/{model_name_short}_{TASK}_finalresults.json\", 'w') as f:\n",
    "    json.dump(average_scores, f, indent=1)\n",
    "\n"
   ]
  },
  {
   "cell_type": "code",
   "execution_count": 15,
   "id": "1f7f4382-b8b8-442f-a2bd-83ae42ff2cf6",
   "metadata": {},
   "outputs": [
    {
     "data": {
      "text/plain": [
       "'\\n\\nAverage scores monolingual model: fb_dpr:\\n{\\'P_3\\': 0.06335708266298971, \\'P_5\\': 0.04716157205240113, \\'P_10\\': 0.02953344058836992, \\'map_cut_3\\': 0.1185736356903903, \\'map_cut_5\\': 0.12758286728465987, \\'map_cut_10\\': 0.13480108872375013, \\'ndcg_cut_3\\': 0.13317919711870022, \\'ndcg_cut_5\\': 0.1482876721102965, \\'ndcg_cut_10\\': 0.16442949118297137}\\n\\nAverage scores crosslingual model: fb_dpr:\\n{\\'P_3\\': 0.012939125770984206, \\'P_5\\': 0.010016090104585708, \\'P_10\\': 0.0061142397425583556, \\'map_cut_3\\': 0.025936354697416626, \\'map_cut_5\\': 0.028473898274783218, \\'map_cut_10\\': 0.029756716980168303, \\'ndcg_cut_3\\': 0.028708956783380736, \\'ndcg_cut_5\\': 0.03309607110639242, \\'ndcg_cut_10\\': 0.03622373972360996}\\n\\n\\nAverage scores crosslingual model: distiluse_multilingual_v2:\\n{\\'P_3\\': 0.08400375435773544, \\'P_5\\': 0.061584875301687984, \\'P_10\\': 0.03757039420756129, \\'map_cut_3\\': 0.16668398587646407, \\'map_cut_5\\': 0.17808902073835772, \\'map_cut_10\\': 0.1864882255977392, \\'ndcg_cut_3\\': 0.18404025900939375, \\'ndcg_cut_5\\': 0.20366602117504182, \\'ndcg_cut_10\\': 0.2225580157383061}\\n\\nAverage scores monolingual model: distiluse_multilingual_v2:\\n{\\'P_3\\': 0.14241936719528095, \\'P_5\\': 0.10678005056308547, \\'P_10\\': 0.06393932429326495, \\'map_cut_3\\': 0.2605895196506553, \\'map_cut_5\\': 0.2820931969662154, \\'map_cut_10\\': 0.29533224436637456, \\'ndcg_cut_3\\': 0.29221580694965205, \\'ndcg_cut_5\\': 0.325354511127512, \\'ndcg_cut_10\\': 0.35229995882726817}\\n\\n\\nAverage scores Expanded doc: crosslingual model: distiluse_multilingual_v2:\\n{\\'P_3\\': 0.07978010190399466, \\'P_5\\': 0.05812550281576693, \\'P_10\\': 0.03608205953338594, \\'map_cut_3\\': 0.1589551488334677, \\'map_cut_5\\': 0.16952969965138173, \\'map_cut_10\\': 0.17795163763637245, \\'ndcg_cut_3\\': 0.17541911996046922, \\'ndcg_cut_5\\': 0.19361040023418608, \\'ndcg_cut_10\\': 0.2130294812501804}\\n\\nExpanded doc: cross lingual \"sentence-transformers/msmarco-bert-co-condensor\": \\nAverage scores:\\n{\\'P_3\\': 0.057656208098686185, \\'P_5\\': 0.04030571198712748, \\'P_10\\': 0.023732904263877325, \\'map_cut_3\\': 0.1206489675516223, \\'map_cut_5\\': 0.12630413649772054, \\'map_cut_10\\': 0.13073643089129813, \\'ndcg_cut_3\\': 0.13100057790167163, \\'ndcg_cut_5\\': 0.1403265820846624, \\'ndcg_cut_10\\': 0.15027825575033718}\\n\\nExpanded doc crosslingual fb_dpr\\n'"
      ]
     },
     "execution_count": 15,
     "metadata": {},
     "output_type": "execute_result"
    }
   ],
   "source": [
    "# some new models to try: ce rerankers  -for later\n",
    "bert_multilingual = \"amberoad/bert-multilingual-passage-reranking-msmarco\"\n",
    "\n",
    "# few more models for retriever:\n",
    "distilbert = \"msmarco-distilbert-base-v4\"\n",
    "MiniLM = \"msmarco-MiniLM-L-12-v3\"\n",
    "\n",
    "'''\n",
    "\n",
    "Average scores monolingual model: fb_dpr:\n",
    "{'P_3': 0.06335708266298971, 'P_5': 0.04716157205240113, 'P_10': 0.02953344058836992, 'map_cut_3': 0.1185736356903903, 'map_cut_5': 0.12758286728465987, 'map_cut_10': 0.13480108872375013, 'ndcg_cut_3': 0.13317919711870022, 'ndcg_cut_5': 0.1482876721102965, 'ndcg_cut_10': 0.16442949118297137}\n",
    "\n",
    "Average scores crosslingual model: fb_dpr:\n",
    "{'P_3': 0.012939125770984206, 'P_5': 0.010016090104585708, 'P_10': 0.0061142397425583556, 'map_cut_3': 0.025936354697416626, 'map_cut_5': 0.028473898274783218, 'map_cut_10': 0.029756716980168303, 'ndcg_cut_3': 0.028708956783380736, 'ndcg_cut_5': 0.03309607110639242, 'ndcg_cut_10': 0.03622373972360996}\n",
    "\n",
    "\n",
    "Average scores crosslingual model: distiluse_multilingual_v2:\n",
    "{'P_3': 0.08400375435773544, 'P_5': 0.061584875301687984, 'P_10': 0.03757039420756129, 'map_cut_3': 0.16668398587646407, 'map_cut_5': 0.17808902073835772, 'map_cut_10': 0.1864882255977392, 'ndcg_cut_3': 0.18404025900939375, 'ndcg_cut_5': 0.20366602117504182, 'ndcg_cut_10': 0.2225580157383061}\n",
    "\n",
    "Average scores monolingual model: distiluse_multilingual_v2:\n",
    "{'P_3': 0.14241936719528095, 'P_5': 0.10678005056308547, 'P_10': 0.06393932429326495, 'map_cut_3': 0.2605895196506553, 'map_cut_5': 0.2820931969662154, 'map_cut_10': 0.29533224436637456, 'ndcg_cut_3': 0.29221580694965205, 'ndcg_cut_5': 0.325354511127512, 'ndcg_cut_10': 0.35229995882726817}\n",
    "\n",
    "\n",
    "Average scores Expanded doc: crosslingual model: distiluse_multilingual_v2:\n",
    "{'P_3': 0.07978010190399466, 'P_5': 0.05812550281576693, 'P_10': 0.03608205953338594, 'map_cut_3': 0.1589551488334677, 'map_cut_5': 0.16952969965138173, 'map_cut_10': 0.17795163763637245, 'ndcg_cut_3': 0.17541911996046922, 'ndcg_cut_5': 0.19361040023418608, 'ndcg_cut_10': 0.2130294812501804}\n",
    "\n",
    "Expanded doc: cross lingual \"sentence-transformers/msmarco-bert-co-condensor\": \n",
    "Average scores:\n",
    "{'P_3': 0.057656208098686185, 'P_5': 0.04030571198712748, 'P_10': 0.023732904263877325, 'map_cut_3': 0.1206489675516223, 'map_cut_5': 0.12630413649772054, 'map_cut_10': 0.13073643089129813, 'ndcg_cut_3': 0.13100057790167163, 'ndcg_cut_5': 0.1403265820846624, 'ndcg_cut_10': 0.15027825575033718}\n",
    "\n",
    "Expanded doc crosslingual fb_dpr\n",
    "{'P_3': 0.010257441673370893, 'P_5': 0.007884151246983107, 'P_10': 0.0052695092518101555, 'map_cut_3': 0.020104809153481718, 'map_cut_5': 0.02188142486815053, 'map_cut_10': 0.023484848484848483, 'ndcg_cut_3': 0.02255028219883454, 'ndcg_cut_5': 0.025730097791489014, 'ndcg_cut_10': 0.02950918546899713}\n",
    " \n",
    "\n",
    "Average scores: monolingual expanded doc: fb_dpr\n",
    "{'P_3': 0.0606757067340846, 'P_5': 0.04541484716157152, 'P_10': 0.02764881636405374, 'map_cut_3': 0.11679945861743132, 'map_cut_5': 0.12558671059015789, 'map_cut_10': 0.13102158598826028, 'ndcg_cut_3': 0.13045171167588318, 'ndcg_cut_5': 0.1454426197168512, 'ndcg_cut_10': 0.15807466967596806}\n",
    "\n",
    "Average scores: monolingual expanded doc:  bert_codensor\n",
    "\n",
    "{'P_3': 0.1408105416379377, 'P_5': 0.10613652034014821, 'P_10': 0.06430705584922906, 'map_cut_3': 0.26120942822850446, 'map_cut_5': 0.2828239995914102, 'map_cut_10': 0.2969226316640707, 'ndcg_cut_3': 0.2919568167203163, 'ndcg_cut_5': 0.3262449638643935, 'ndcg_cut_10': 0.3555820013886881}\n",
    "\n",
    "Average scores: monolingual expanded doc:  distiluse_multilingual_v2\n",
    "{'P_3': 0.006358691488546687, 'P_5': 0.0056079062284532175, 'P_10': 0.004091013560101123, 'map_cut_3': 0.010320743634924284, 'map_cut_5': 0.011938187900610336, 'map_cut_10': 0.013327243995481195, 'ndcg_cut_3': 0.01220544045343359, 'ndcg_cut_5': 0.015139086499540934, 'ndcg_cut_10': 0.018590973758298695}\n",
    "\n",
    "'''"
   ]
  },
  {
   "cell_type": "code",
   "execution_count": null,
   "id": "ef578aee-69a8-401b-b2ba-bfbf95c9deba",
   "metadata": {},
   "outputs": [],
   "source": []
  }
 ],
 "metadata": {
  "kernelspec": {
   "display_name": "Python 3 (ipykernel)",
   "language": "python",
   "name": "python3"
  },
  "language_info": {
   "codemirror_mode": {
    "name": "ipython",
    "version": 3
   },
   "file_extension": ".py",
   "mimetype": "text/x-python",
   "name": "python",
   "nbconvert_exporter": "python",
   "pygments_lexer": "ipython3",
   "version": "3.11.0"
  }
 },
 "nbformat": 4,
 "nbformat_minor": 5
}

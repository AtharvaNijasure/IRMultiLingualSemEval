{
 "cells": [
  {
   "cell_type": "code",
   "execution_count": 17,
   "id": "ac7d1a24-2715-4455-9050-b5d6f657bbd9",
   "metadata": {},
   "outputs": [
    {
     "name": "stderr",
     "output_type": "stream",
     "text": [
      "huggingface/tokenizers: The current process just got forked, after parallelism has already been used. Disabling parallelism to avoid deadlocks...\n",
      "To disable this warning, you can either:\n",
      "\t- Avoid using `tokenizers` before the fork if possible\n",
      "\t- Explicitly set the environment variable TOKENIZERS_PARALLELISM=(true | false)\n"
     ]
    },
    {
     "name": "stdout",
     "output_type": "stream",
     "text": [
      "Defaulting to user installation because normal site-packages is not writeable\n",
      "Requirement already satisfied: sentence_transformers in /home/anijasure_umass_edu/.local/lib/python3.11/site-packages (3.3.1)\n",
      "Requirement already satisfied: transformers<5.0.0,>=4.41.0 in /home/anijasure_umass_edu/.local/lib/python3.11/site-packages (from sentence_transformers) (4.46.0)\n",
      "Requirement already satisfied: tqdm in /home/anijasure_umass_edu/.local/lib/python3.11/site-packages (from sentence_transformers) (4.66.5)\n",
      "Requirement already satisfied: torch>=1.11.0 in /home/anijasure_umass_edu/.local/lib/python3.11/site-packages (from sentence_transformers) (2.5.0)\n",
      "Requirement already satisfied: scikit-learn in /home/anijasure_umass_edu/.local/lib/python3.11/site-packages (from sentence_transformers) (1.5.2)\n",
      "Requirement already satisfied: scipy in /home/anijasure_umass_edu/.local/lib/python3.11/site-packages (from sentence_transformers) (1.14.1)\n",
      "Requirement already satisfied: huggingface-hub>=0.20.0 in /home/anijasure_umass_edu/.local/lib/python3.11/site-packages (from sentence_transformers) (0.26.1)\n",
      "Requirement already satisfied: Pillow in /modules/apps/ood/jupyterlab-matlab/lib/python3.11/site-packages (from sentence_transformers) (10.2.0)\n",
      "Requirement already satisfied: filelock in /home/anijasure_umass_edu/.local/lib/python3.11/site-packages (from huggingface-hub>=0.20.0->sentence_transformers) (3.16.1)\n",
      "Requirement already satisfied: fsspec>=2023.5.0 in /home/anijasure_umass_edu/.local/lib/python3.11/site-packages (from huggingface-hub>=0.20.0->sentence_transformers) (2024.9.0)\n",
      "Requirement already satisfied: packaging>=20.9 in /modules/apps/ood/jupyterlab-matlab/lib/python3.11/site-packages (from huggingface-hub>=0.20.0->sentence_transformers) (22.0)\n",
      "Requirement already satisfied: pyyaml>=5.1 in /modules/apps/ood/jupyterlab-matlab/lib/python3.11/site-packages (from huggingface-hub>=0.20.0->sentence_transformers) (6.0)\n",
      "Requirement already satisfied: requests in /home/anijasure_umass_edu/.local/lib/python3.11/site-packages (from huggingface-hub>=0.20.0->sentence_transformers) (2.32.3)\n",
      "Requirement already satisfied: typing-extensions>=3.7.4.3 in /home/anijasure_umass_edu/.local/lib/python3.11/site-packages (from huggingface-hub>=0.20.0->sentence_transformers) (4.12.2)\n",
      "Requirement already satisfied: networkx in /home/anijasure_umass_edu/.local/lib/python3.11/site-packages (from torch>=1.11.0->sentence_transformers) (3.4.2)\n",
      "Requirement already satisfied: jinja2 in /modules/apps/ood/jupyterlab-matlab/lib/python3.11/site-packages (from torch>=1.11.0->sentence_transformers) (3.1.2)\n",
      "Requirement already satisfied: nvidia-cuda-nvrtc-cu12==12.4.127 in /home/anijasure_umass_edu/.local/lib/python3.11/site-packages (from torch>=1.11.0->sentence_transformers) (12.4.127)\n",
      "Requirement already satisfied: nvidia-cuda-runtime-cu12==12.4.127 in /home/anijasure_umass_edu/.local/lib/python3.11/site-packages (from torch>=1.11.0->sentence_transformers) (12.4.127)\n",
      "Requirement already satisfied: nvidia-cuda-cupti-cu12==12.4.127 in /home/anijasure_umass_edu/.local/lib/python3.11/site-packages (from torch>=1.11.0->sentence_transformers) (12.4.127)\n",
      "Requirement already satisfied: nvidia-cudnn-cu12==9.1.0.70 in /home/anijasure_umass_edu/.local/lib/python3.11/site-packages (from torch>=1.11.0->sentence_transformers) (9.1.0.70)\n",
      "Requirement already satisfied: nvidia-cublas-cu12==12.4.5.8 in /home/anijasure_umass_edu/.local/lib/python3.11/site-packages (from torch>=1.11.0->sentence_transformers) (12.4.5.8)\n",
      "Requirement already satisfied: nvidia-cufft-cu12==11.2.1.3 in /home/anijasure_umass_edu/.local/lib/python3.11/site-packages (from torch>=1.11.0->sentence_transformers) (11.2.1.3)\n",
      "Requirement already satisfied: nvidia-curand-cu12==10.3.5.147 in /home/anijasure_umass_edu/.local/lib/python3.11/site-packages (from torch>=1.11.0->sentence_transformers) (10.3.5.147)\n",
      "Requirement already satisfied: nvidia-cusolver-cu12==11.6.1.9 in /home/anijasure_umass_edu/.local/lib/python3.11/site-packages (from torch>=1.11.0->sentence_transformers) (11.6.1.9)\n",
      "Requirement already satisfied: nvidia-cusparse-cu12==12.3.1.170 in /home/anijasure_umass_edu/.local/lib/python3.11/site-packages (from torch>=1.11.0->sentence_transformers) (12.3.1.170)\n",
      "Requirement already satisfied: nvidia-nccl-cu12==2.21.5 in /home/anijasure_umass_edu/.local/lib/python3.11/site-packages (from torch>=1.11.0->sentence_transformers) (2.21.5)\n",
      "Requirement already satisfied: nvidia-nvtx-cu12==12.4.127 in /home/anijasure_umass_edu/.local/lib/python3.11/site-packages (from torch>=1.11.0->sentence_transformers) (12.4.127)\n",
      "Requirement already satisfied: nvidia-nvjitlink-cu12==12.4.127 in /home/anijasure_umass_edu/.local/lib/python3.11/site-packages (from torch>=1.11.0->sentence_transformers) (12.4.127)\n",
      "Requirement already satisfied: triton==3.1.0 in /home/anijasure_umass_edu/.local/lib/python3.11/site-packages (from torch>=1.11.0->sentence_transformers) (3.1.0)\n",
      "Requirement already satisfied: sympy==1.13.1 in /home/anijasure_umass_edu/.local/lib/python3.11/site-packages (from torch>=1.11.0->sentence_transformers) (1.13.1)\n",
      "Requirement already satisfied: mpmath<1.4,>=1.1.0 in /home/anijasure_umass_edu/.local/lib/python3.11/site-packages (from sympy==1.13.1->torch>=1.11.0->sentence_transformers) (1.3.0)\n",
      "Requirement already satisfied: numpy>=1.17 in /modules/apps/ood/jupyterlab-matlab/lib/python3.11/site-packages (from transformers<5.0.0,>=4.41.0->sentence_transformers) (1.26.4)\n",
      "Requirement already satisfied: regex!=2019.12.17 in /home/anijasure_umass_edu/.local/lib/python3.11/site-packages (from transformers<5.0.0,>=4.41.0->sentence_transformers) (2024.9.11)\n",
      "Requirement already satisfied: safetensors>=0.4.1 in /home/anijasure_umass_edu/.local/lib/python3.11/site-packages (from transformers<5.0.0,>=4.41.0->sentence_transformers) (0.4.5)\n",
      "Requirement already satisfied: tokenizers<0.21,>=0.20 in /home/anijasure_umass_edu/.local/lib/python3.11/site-packages (from transformers<5.0.0,>=4.41.0->sentence_transformers) (0.20.1)\n",
      "Requirement already satisfied: joblib>=1.2.0 in /home/anijasure_umass_edu/.local/lib/python3.11/site-packages (from scikit-learn->sentence_transformers) (1.4.2)\n",
      "Requirement already satisfied: threadpoolctl>=3.1.0 in /home/anijasure_umass_edu/.local/lib/python3.11/site-packages (from scikit-learn->sentence_transformers) (3.5.0)\n",
      "Requirement already satisfied: MarkupSafe>=2.0 in /modules/apps/ood/jupyterlab-matlab/lib/python3.11/site-packages (from jinja2->torch>=1.11.0->sentence_transformers) (2.1.1)\n",
      "Requirement already satisfied: charset-normalizer<4,>=2 in /modules/apps/ood/jupyterlab-matlab/lib/python3.11/site-packages (from requests->huggingface-hub>=0.20.0->sentence_transformers) (2.1.1)\n",
      "Requirement already satisfied: idna<4,>=2.5 in /modules/apps/ood/jupyterlab-matlab/lib/python3.11/site-packages (from requests->huggingface-hub>=0.20.0->sentence_transformers) (3.4)\n",
      "Requirement already satisfied: urllib3<3,>=1.21.1 in /modules/apps/ood/jupyterlab-matlab/lib/python3.11/site-packages (from requests->huggingface-hub>=0.20.0->sentence_transformers) (1.26.13)\n",
      "Requirement already satisfied: certifi>=2017.4.17 in /modules/apps/ood/jupyterlab-matlab/lib/python3.11/site-packages (from requests->huggingface-hub>=0.20.0->sentence_transformers) (2024.2.2)\n"
     ]
    },
    {
     "name": "stderr",
     "output_type": "stream",
     "text": [
      "huggingface/tokenizers: The current process just got forked, after parallelism has already been used. Disabling parallelism to avoid deadlocks...\n",
      "To disable this warning, you can either:\n",
      "\t- Avoid using `tokenizers` before the fork if possible\n",
      "\t- Explicitly set the environment variable TOKENIZERS_PARALLELISM=(true | false)\n"
     ]
    },
    {
     "name": "stdout",
     "output_type": "stream",
     "text": [
      "Defaulting to user installation because normal site-packages is not writeable\n",
      "Requirement already satisfied: pytrec_eval in /home/anijasure_umass_edu/.local/lib/python3.11/site-packages (0.5)\n"
     ]
    }
   ],
   "source": [
    "!pip install sentence_transformers\n",
    "!pip install pytrec_eval"
   ]
  },
  {
   "cell_type": "code",
   "execution_count": 28,
   "id": "451a08f6-cec7-4f62-b04a-d1161575f741",
   "metadata": {},
   "outputs": [],
   "source": [
    "from create_faiss_index import create_and_store_dense_index_approx\n",
    "import pandas as pd\n",
    "from run_query_faiss import query_dense_index\n",
    "from sentence_transformers import SentenceTransformer\n",
    "from dataloader import get_data\n",
    "from tqdm import tqdm\n",
    "import pytrec_eval\n",
    "import os\n",
    "import json"
   ]
  },
  {
   "cell_type": "code",
   "execution_count": 33,
   "id": "994b0b37-b8b2-42fe-b1b7-78a7a0add99e",
   "metadata": {},
   "outputs": [],
   "source": [
    "# # Example Usage\n",
    "# # documents = [\n",
    "# #     \"The quick brown fox jumps over the lazy dog.\",\n",
    "# #     \"Sentence embeddings are useful for dense retrieval.\",\n",
    "# #     \"LaBSE is a multilingual model for sentence embeddings.\"\n",
    "# # ]\n",
    "\n",
    "tasks = [\"monolingual\",\"crosslingual\"]\n",
    "splits = [\"train\", \"dev\"]\n",
    "\n",
    "model_name = \"sentence-transformers/msmarco-bert-co-condensor\"\n",
    "model_name_short = \"bert_codensor\"\n",
    "\n",
    "create_and_store_index = True\n",
    "\n",
    "\n",
    "\n",
    "TASK = \"monolingual\"\n",
    "SPLIT = \"train\"\n",
    "# Get documents as a list of fact-checks from docs_monolingual.csv\n",
    "doc_csv_path = f\"docs_{TASK}_{SPLIT}.csv\"\n",
    "query_csv_path = f\"queries_{TASK}_{SPLIT}.csv\"\n",
    "df_documents = pd.read_csv(doc_csv_path)\n",
    "documents = df_documents['doc'].astype(str).tolist()\n",
    "\n",
    "output_directory = f\"{TASK}_{SPLIT}_dense_index_bert_codensor_ivf\"\n",
    "FINAL_OUTPUT_DIR = f'{model_name_short}_{TASK}_{SPLIT}'\n",
    "\n",
    "device = \"cuda\"\n",
    "\n",
    "# Index path \n",
    "index_path = f\"{output_directory}/faiss_index_ivf\"\n",
    "metadata_path = f\"{output_directory}/metadata.pkl\"\n",
    "\n",
    "## save results\n",
    "if not os.path.exists(FINAL_OUTPUT_DIR):\n",
    "    os.makedirs(FINAL_OUTPUT_DIR)\n"
   ]
  },
  {
   "cell_type": "code",
   "execution_count": 34,
   "id": "f892a862-0b56-45e7-bb6b-4b34a12bdb5c",
   "metadata": {},
   "outputs": [
    {
     "name": "stdout",
     "output_type": "stream",
     "text": [
      "Encoding documents...\n"
     ]
    },
    {
     "data": {
      "application/vnd.jupyter.widget-view+json": {
       "model_id": "11b192438db7433f89c7f3a6ea9b40bc",
       "version_major": 2,
       "version_minor": 0
      },
      "text/plain": [
       "Batches:   0%|          | 0/2680 [00:00<?, ?it/s]"
      ]
     },
     "metadata": {},
     "output_type": "display_data"
    },
    {
     "name": "stdout",
     "output_type": "stream",
     "text": [
      "Creating FAISS IndexIVFFlat...\n",
      "Training FAISS index...\n",
      "Saving FAISS index to monolingual_train_dense_index_bert_codensor_ivf/faiss_index_ivf...\n",
      "Saving metadata to monolingual_train_dense_index_bert_codensor_ivf/metadata.pkl...\n",
      "Index and metadata successfully saved.\n"
     ]
    }
   ],
   "source": [
    "create_and_store_dense_index_approx(documents, model_name, output_directory)\n"
   ]
  },
  {
   "cell_type": "code",
   "execution_count": 35,
   "id": "45e4390c-881e-4980-8873-a0e8ad4b9553",
   "metadata": {},
   "outputs": [],
   "source": [
    "\n",
    "# Load the model\n",
    "model = SentenceTransformer(model_name)\n",
    "model = model.to(device)\n",
    "    \n",
    "\n",
    "\n",
    "# Document csv\n",
    "df_docs = pd.read_csv(doc_csv_path)\n",
    "doc_ids = df_docs['doc_ids'].tolist()\n",
    "\n",
    "# Query csv \n",
    "df_queries = pd.read_csv(query_csv_path)\n",
    "query_ids = df_queries['query_ids'].tolist()\n",
    " \n",
    "# df_fact_check_post_mapping\n",
    "_, _, df_fact_check_post_mapping = get_data('./data')\n",
    "\n",
    "\n",
    "\n"
   ]
  },
  {
   "cell_type": "code",
   "execution_count": 36,
   "id": "7e8638fd-2b4e-4414-b136-c296f2c67395",
   "metadata": {},
   "outputs": [
    {
     "name": "stderr",
     "output_type": "stream",
     "text": [
      "100%|██████████| 4351/4351 [05:30<00:00, 13.17it/s]"
     ]
    },
    {
     "name": "stdout",
     "output_type": "stream",
     "text": [
      "Average scores:\n",
      "{'P_3': 0.14602007201409684, 'P_5': 0.11220409101355637, 'P_10': 0.06809928752010984, 'map_cut_3': 0.265325340279374, 'map_cut_5': 0.28960213488597836, 'map_cut_10': 0.30458131318106, 'ndcg_cut_3': 0.2985609952416856, 'ndcg_cut_5': 0.3368495670112682, 'ndcg_cut_10': 0.3678352780605308}\n"
     ]
    },
    {
     "name": "stderr",
     "output_type": "stream",
     "text": [
      "\n"
     ]
    }
   ],
   "source": [
    "\n",
    "# Metrics\n",
    "metrics=['P_3', 'P_5', 'P_10', 'map_cut_3', 'map_cut_5', 'map_cut_10', 'ndcg_cut_3', 'ndcg_cut_5', 'ndcg_cut_10']\n",
    "average_scores = {metric: 0.0 for metric in metrics}\n",
    "\n",
    "\n",
    "\n",
    "\n",
    "count = 0\n",
    "\n",
    "for _, row in tqdm(df_queries.iterrows(), total=len(df_queries)):\n",
    "        \n",
    "        qrels = {}\n",
    "        runs = {}\n",
    "        \n",
    "        query = row['query']\n",
    "        idx = query_ids[count] \n",
    "        \n",
    "        #print(\"Query:\", query)\n",
    "        #print(\"Query Id:\", idx)\n",
    "        \n",
    "        # Results from dense multilingual model \n",
    "        results = query_dense_index(query, model, index_path, metadata_path, top_k=10)\n",
    "\n",
    "        ranked_fact_checks = []\n",
    "        ranked_fact_checks_scores = []\n",
    "        \n",
    "        for rank, (doc, score) in enumerate(results, start=1):\n",
    "            \n",
    "            doc_id = doc_ids[doc]\n",
    "            #print(\"Doc_id\", doc_id)\n",
    "            ranked_fact_checks.append(doc_id) \n",
    "            ranked_fact_checks_scores.append(score)\n",
    "            \n",
    "            #runs[str(idx)][str(doc_id)] = score \n",
    "            #print(f\"Rank {rank}: {doc} (Score: {score})\")\n",
    "        \n",
    "        \n",
    "        runs[str(idx)] = {}\n",
    "        qrels[str(idx)] = {} \n",
    "        \n",
    "        for fc_id, score in zip(ranked_fact_checks, ranked_fact_checks_scores):\n",
    "            runs[str(idx)][str(fc_id)] = float(score) \n",
    "        \n",
    "        \n",
    "        ground_truth = df_fact_check_post_mapping[\n",
    "            df_fact_check_post_mapping['post_id'] == idx\n",
    "        ]['fact_check_id'].tolist()\n",
    "\n",
    "        ## keys must be strings\n",
    "        for fc_id in ground_truth:\n",
    "            qrels[str(idx)][str(fc_id)] = 1\n",
    "        \n",
    "        \n",
    "        #qrels = {str(k): {str(d): v for d, v in docs.items()} for k, docs in qrels.items()}\n",
    "        #run = {str(k): {str(d): v for d, v in docs.items()} for k, docs in runs.items()}\n",
    "\n",
    "        #print(\"Metrics\",metrics)\n",
    "\n",
    "        evaluator = pytrec_eval.RelevanceEvaluator(qrels, metrics)\n",
    "        #print(\"Evaluator\", evaluator)\n",
    "        \n",
    "        #print(\"Qrels:\", qrels)\n",
    "        #print(\"Qrels type\", type(qrels))\n",
    "        #print(\"Runs:\", runs)\n",
    "        #print(\"Runs type\", type(runs))\n",
    "        results_scores = evaluator.evaluate(runs)\n",
    "\n",
    "        #print(\"Results\", results_scores)\n",
    "\n",
    "        for query_id in results_scores:\n",
    "            for metric in metrics:\n",
    "                average_scores[metric] += results_scores[query_id][metric]\n",
    "\n",
    "        with open(f\"{FINAL_OUTPUT_DIR}/{model_name_short}_{TASK}_intermediate_scores_{count}.json\", 'w') as f1:\n",
    "            json.dump(average_scores, f1, indent=1)\n",
    "\n",
    "        count = count + 1 \n",
    "        # if count == 5:\n",
    "        #     break\n",
    "\n",
    "        \n",
    "\n",
    "for metric in average_scores:\n",
    "    average_scores[metric] /= count\n",
    "\n",
    "print(\"Average scores:\")\n",
    "print(average_scores)\n",
    "\n",
    "\n",
    "\n",
    "with open(f\"{FINAL_OUTPUT_DIR}/{model_name_short}_{TASK}_finalresults.json\", 'w') as f:\n",
    "    json.dump(average_scores, f, indent=1)\n",
    "\n"
   ]
  },
  {
   "cell_type": "code",
   "execution_count": null,
   "id": "1f7f4382-b8b8-442f-a2bd-83ae42ff2cf6",
   "metadata": {},
   "outputs": [],
   "source": [
    "# some new models to try: ce rerankers  -for later\n",
    "bert_multilingual = \"amberoad/bert-multilingual-passage-reranking-msmarco\"\n",
    "\n",
    "# few more models for retriever:\n",
    "distilbert = \"msmarco-distilbert-base-v4\"\n",
    "MiniLM = \"msmarco-MiniLM-L-12-v3\""
   ]
  }
 ],
 "metadata": {
  "kernelspec": {
   "display_name": "Python 3 (ipykernel)",
   "language": "python",
   "name": "python3"
  },
  "language_info": {
   "codemirror_mode": {
    "name": "ipython",
    "version": 3
   },
   "file_extension": ".py",
   "mimetype": "text/x-python",
   "name": "python",
   "nbconvert_exporter": "python",
   "pygments_lexer": "ipython3",
   "version": "3.11.0"
  }
 },
 "nbformat": 4,
 "nbformat_minor": 5
}

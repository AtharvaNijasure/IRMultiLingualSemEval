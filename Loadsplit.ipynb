{
 "cells": [
  {
   "cell_type": "code",
   "execution_count": 8,
   "id": "1831b658-ec42-40a5-bf60-e85032cf5c8c",
   "metadata": {},
   "outputs": [],
   "source": [
    "import os\n",
    "import json\n",
    "import argparse\n",
    "import numpy as np\n",
    "import pytrec_eval\n",
    "from utils import read_json\n",
    "from dataloader import get_data"
   ]
  },
  {
   "cell_type": "code",
   "execution_count": 9,
   "id": "60cae0a0-c354-467a-ae0f-87c940f60d63",
   "metadata": {},
   "outputs": [],
   "source": [
    "def save_dataframe_to_csv(df, file_path, index=True, encoding='utf-8'):\n",
    "    \"\"\"\n",
    "    Saves a pandas DataFrame to a CSV file, including the index by default.\n",
    "\n",
    "    Parameters:\n",
    "    - df (pd.DataFrame): The DataFrame to save.\n",
    "    - file_path (str): The path where the CSV file will be saved.\n",
    "    - index (bool): Whether to include the DataFrame index in the CSV file. Default is True.\n",
    "    - encoding (str): The encoding to use for the CSV file. Default is 'utf-8'.\n",
    "\n",
    "    Returns:\n",
    "    - None\n",
    "    \"\"\"\n",
    "    try:\n",
    "        df.to_csv(file_path, index=index, encoding=encoding)\n",
    "        print(f\"DataFrame successfully saved to {file_path}\")\n",
    "    except Exception as e:\n",
    "        print(f\"An error occurred while saving the DataFrame: {e}\")"
   ]
  },
  {
   "cell_type": "code",
   "execution_count": 13,
   "id": "47d94840-3c33-48f6-a0d9-c54f4ffc1020",
   "metadata": {},
   "outputs": [
    {
     "name": "stdout",
     "output_type": "stream",
     "text": [
      "Task: monolingual, Language: eng, Split: train\n"
     ]
    }
   ],
   "source": [
    "TASK = 'monolingual'\n",
    "LANG = 'eng'\n",
    "SPLIT = 'train'\n",
    "\n",
    "print(f\"Task: {TASK}, Language: {LANG}, Split: {SPLIT}\")\n",
    "\n",
    "df_fact_checks, df_posts, df_fact_check_post_mapping = get_data('./data')\n",
    "tasks = read_json(f\"./data/tasks.json\")\n",
    "\n"
   ]
  },
  {
   "cell_type": "code",
   "execution_count": 23,
   "id": "abc075f8-4e15-4e21-a373-15fea0f36668",
   "metadata": {},
   "outputs": [
    {
     "data": {
      "text/plain": [
       "dict_keys(['fact_checks', 'posts_train', 'posts_dev'])"
      ]
     },
     "execution_count": 23,
     "metadata": {},
     "output_type": "execute_result"
    }
   ],
   "source": [
    "tasks[TASK][LANG].keys() #[f'posts_{SPLIT}']"
   ]
  },
  {
   "cell_type": "code",
   "execution_count": 25,
   "id": "642454c1-c634-48ed-ba6a-bfce57e0d84c",
   "metadata": {},
   "outputs": [
    {
     "name": "stdout",
     "output_type": "stream",
     "text": [
      "Number of posts in train set: 4351\n"
     ]
    }
   ],
   "source": [
    "posts_split = tasks[TASK][LANG][f'posts_{SPLIT}']\n",
    "print(f\"Number of posts in {SPLIT} set:\", len(posts_split))\n",
    "\n"
   ]
  },
  {
   "cell_type": "code",
   "execution_count": 32,
   "id": "c781f8f2-6632-4d9f-9c3c-d81eb126cf26",
   "metadata": {},
   "outputs": [],
   "source": [
    "# posts_split"
   ]
  },
  {
   "cell_type": "code",
   "execution_count": 28,
   "id": "8da8ffa4-5311-4d7c-abf7-d1a0b750f16f",
   "metadata": {},
   "outputs": [
    {
     "name": "stdout",
     "output_type": "stream",
     "text": [
      "Number of fact checks: 85734\n"
     ]
    }
   ],
   "source": [
    "fact_checks = tasks[TASK][LANG]['fact_checks']\n",
    "print(\"Number of fact checks:\", len(fact_checks))\n",
    "\n"
   ]
  },
  {
   "cell_type": "code",
   "execution_count": 30,
   "id": "0a90caee-6be1-4657-b543-6aa9d1784f84",
   "metadata": {},
   "outputs": [],
   "source": [
    "# fact_checks"
   ]
  },
  {
   "cell_type": "code",
   "execution_count": 33,
   "id": "6035abdf-08b3-44dc-b75c-c55309208bd0",
   "metadata": {},
   "outputs": [],
   "source": [
    "## filter dataframes\n",
    "df_posts_split = df_posts[df_posts.index.isin(posts_split)]\n",
    "assert len(df_posts_split) == len(posts_split)\n",
    "\n",
    "df_fact_checks = df_fact_checks[df_fact_checks.index.isin(fact_checks)]\n",
    "assert len(df_fact_checks) == len(fact_checks)\n"
   ]
  },
  {
   "cell_type": "code",
   "execution_count": 129,
   "id": "71a04fdd-ab0c-4f2d-85d2-509530200d99",
   "metadata": {},
   "outputs": [
    {
     "name": "stdout",
     "output_type": "stream",
     "text": [
      "Number of posts in train set: 4351\n",
      "Number of fact checks: 85734\n"
     ]
    }
   ],
   "source": [
    "TASK = 'monolingual'\n",
    "LANG = 'eng'\n",
    "SPLIT = 'train'\n",
    "\n",
    "df_fact_checks, df_posts, df_fact_check_post_mapping = get_data('')\n",
    "tasks = read_json(f\"tasks.json\")\n",
    "\n",
    "posts_split = tasks[TASK][LANG][f'posts_{SPLIT}']\n",
    "print(f\"Number of posts in {SPLIT} set:\", len(posts_split))\n",
    "\n",
    "fact_checks = tasks[TASK][LANG]['fact_checks']\n",
    "print(\"Number of fact checks:\", len(fact_checks))\n",
    "\n",
    "## filter dataframes\n",
    "df_posts_split = df_posts[df_posts.index.isin(posts_split)]\n",
    "assert len(df_posts_split) == len(posts_split)\n",
    "\n",
    "df_fact_checks = df_fact_checks[df_fact_checks.index.isin(fact_checks)]\n",
    "assert len(df_fact_checks) == len(fact_checks)"
   ]
  },
  {
   "cell_type": "code",
   "execution_count": 38,
   "id": "37415c38-d670-4660-893b-2f41bc0e3938",
   "metadata": {},
   "outputs": [
    {
     "data": {
      "text/html": [
       "<div>\n",
       "<style scoped>\n",
       "    .dataframe tbody tr th:only-of-type {\n",
       "        vertical-align: middle;\n",
       "    }\n",
       "\n",
       "    .dataframe tbody tr th {\n",
       "        vertical-align: top;\n",
       "    }\n",
       "\n",
       "    .dataframe thead th {\n",
       "        text-align: right;\n",
       "    }\n",
       "</style>\n",
       "<table border=\"1\" class=\"dataframe\">\n",
       "  <thead>\n",
       "    <tr style=\"text-align: right;\">\n",
       "      <th></th>\n",
       "      <th>instances</th>\n",
       "      <th>ocr</th>\n",
       "      <th>verdicts</th>\n",
       "      <th>text</th>\n",
       "    </tr>\n",
       "    <tr>\n",
       "      <th>post_id</th>\n",
       "      <th></th>\n",
       "      <th></th>\n",
       "      <th></th>\n",
       "      <th></th>\n",
       "    </tr>\n",
       "  </thead>\n",
       "  <tbody>\n",
       "    <tr>\n",
       "      <th>2</th>\n",
       "      <td>[(1610052141.0, fb), (1610072448.0, fb)]</td>\n",
       "      <td>[(\"Actually, he's a damn sight better than any...</td>\n",
       "      <td>[Missing context]</td>\n",
       "      <td></td>\n",
       "    </tr>\n",
       "    <tr>\n",
       "      <th>5</th>\n",
       "      <td>[(1595754861.0, fb)]</td>\n",
       "      <td>[(\"Cigarette smoking does not cause cancer.\" -...</td>\n",
       "      <td>[False information]</td>\n",
       "      <td></td>\n",
       "    </tr>\n",
       "    <tr>\n",
       "      <th>13</th>\n",
       "      <td>[(1473438408.0, fb)]</td>\n",
       "      <td>[(\"Environmentalists\" Say Fracking is Evil 53-...</td>\n",
       "      <td>[Partly false information]</td>\n",
       "      <td></td>\n",
       "    </tr>\n",
       "    <tr>\n",
       "      <th>14</th>\n",
       "      <td>[(1601665028.0, fb)]</td>\n",
       "      <td>[(\"Environmentalists\" Say Fracking is Evil SAP...</td>\n",
       "      <td>[Partly false information]</td>\n",
       "      <td></td>\n",
       "    </tr>\n",
       "    <tr>\n",
       "      <th>15</th>\n",
       "      <td>[(1603642996.0, fb), (1603523078.0, fb)]</td>\n",
       "      <td>[(\"Environmentalists\" Say Fracking is Evil Thi...</td>\n",
       "      <td>[Partly false information]</td>\n",
       "      <td></td>\n",
       "    </tr>\n",
       "    <tr>\n",
       "      <th>...</th>\n",
       "      <td>...</td>\n",
       "      <td>...</td>\n",
       "      <td>...</td>\n",
       "      <td>...</td>\n",
       "    </tr>\n",
       "    <tr>\n",
       "      <th>28044</th>\n",
       "      <td>[(1592947214.0, fb)]</td>\n",
       "      <td>[(COVID has killed 1.6M people in the world an...</td>\n",
       "      <td>[False information]</td>\n",
       "      <td>(🤦🏾 ♂️🙏🏾🙏🏾, 🤦🏾 ♂️🙏🏾🙏🏾, [(eng, 1.0)])</td>\n",
       "    </tr>\n",
       "    <tr>\n",
       "      <th>28048</th>\n",
       "      <td>[(1615388401.0, fb)]</td>\n",
       "      <td>[]</td>\n",
       "      <td>[False information]</td>\n",
       "      <td>(🤩Why Every Judge On Shark Tank Backed This Pr...</td>\n",
       "    </tr>\n",
       "    <tr>\n",
       "      <th>28061</th>\n",
       "      <td>[(None, fb)]</td>\n",
       "      <td>[(Boris Johnson's dad, Stanley, wrote a novel ...</td>\n",
       "      <td>[]</td>\n",
       "      <td>(🤷, 🤷, [(eng, 1.0)])</td>\n",
       "    </tr>\n",
       "    <tr>\n",
       "      <th>28063</th>\n",
       "      <td>[(1657130896.0, fb)]</td>\n",
       "      <td>[(= HealthSite.com HEALTH A-Z NO MORE DENGUE D...</td>\n",
       "      <td>[Partly false information]</td>\n",
       "      <td>(🤷🏼 ♀️, 🤷🏼 ♀️, [(eng, 1.0)])</td>\n",
       "    </tr>\n",
       "    <tr>\n",
       "      <th>28075</th>\n",
       "      <td>[(1578314448.0, ig)]</td>\n",
       "      <td>[]</td>\n",
       "      <td>[False]</td>\n",
       "      <td>(🦘 This kangaroo was saved by the above volunt...</td>\n",
       "    </tr>\n",
       "  </tbody>\n",
       "</table>\n",
       "<p>4351 rows × 4 columns</p>\n",
       "</div>"
      ],
      "text/plain": [
       "                                        instances  \\\n",
       "post_id                                             \n",
       "2        [(1610052141.0, fb), (1610072448.0, fb)]   \n",
       "5                            [(1595754861.0, fb)]   \n",
       "13                           [(1473438408.0, fb)]   \n",
       "14                           [(1601665028.0, fb)]   \n",
       "15       [(1603642996.0, fb), (1603523078.0, fb)]   \n",
       "...                                           ...   \n",
       "28044                        [(1592947214.0, fb)]   \n",
       "28048                        [(1615388401.0, fb)]   \n",
       "28061                                [(None, fb)]   \n",
       "28063                        [(1657130896.0, fb)]   \n",
       "28075                        [(1578314448.0, ig)]   \n",
       "\n",
       "                                                       ocr  \\\n",
       "post_id                                                      \n",
       "2        [(\"Actually, he's a damn sight better than any...   \n",
       "5        [(\"Cigarette smoking does not cause cancer.\" -...   \n",
       "13       [(\"Environmentalists\" Say Fracking is Evil 53-...   \n",
       "14       [(\"Environmentalists\" Say Fracking is Evil SAP...   \n",
       "15       [(\"Environmentalists\" Say Fracking is Evil Thi...   \n",
       "...                                                    ...   \n",
       "28044    [(COVID has killed 1.6M people in the world an...   \n",
       "28048                                                   []   \n",
       "28061    [(Boris Johnson's dad, Stanley, wrote a novel ...   \n",
       "28063    [(= HealthSite.com HEALTH A-Z NO MORE DENGUE D...   \n",
       "28075                                                   []   \n",
       "\n",
       "                           verdicts  \\\n",
       "post_id                               \n",
       "2                 [Missing context]   \n",
       "5               [False information]   \n",
       "13       [Partly false information]   \n",
       "14       [Partly false information]   \n",
       "15       [Partly false information]   \n",
       "...                             ...   \n",
       "28044           [False information]   \n",
       "28048           [False information]   \n",
       "28061                            []   \n",
       "28063    [Partly false information]   \n",
       "28075                       [False]   \n",
       "\n",
       "                                                      text  \n",
       "post_id                                                     \n",
       "2                                                           \n",
       "5                                                           \n",
       "13                                                          \n",
       "14                                                          \n",
       "15                                                          \n",
       "...                                                    ...  \n",
       "28044                 (🤦🏾 ♂️🙏🏾🙏🏾, 🤦🏾 ♂️🙏🏾🙏🏾, [(eng, 1.0)])  \n",
       "28048    (🤩Why Every Judge On Shark Tank Backed This Pr...  \n",
       "28061                                 (🤷, 🤷, [(eng, 1.0)])  \n",
       "28063                         (🤷🏼 ♀️, 🤷🏼 ♀️, [(eng, 1.0)])  \n",
       "28075    (🦘 This kangaroo was saved by the above volunt...  \n",
       "\n",
       "[4351 rows x 4 columns]"
      ]
     },
     "execution_count": 38,
     "metadata": {},
     "output_type": "execute_result"
    }
   ],
   "source": [
    "df_posts_split"
   ]
  },
  {
   "cell_type": "code",
   "execution_count": 42,
   "id": "7e9acae6-4dd0-4c44-ad6d-ce07bd32044a",
   "metadata": {},
   "outputs": [
    {
     "ename": "KeyError",
     "evalue": "'query'",
     "output_type": "error",
     "traceback": [
      "\u001b[0;31m---------------------------------------------------------------------------\u001b[0m",
      "\u001b[0;31mKeyError\u001b[0m                                  Traceback (most recent call last)",
      "File \u001b[0;32m~/.local/lib/python3.11/site-packages/pandas/core/indexes/base.py:3805\u001b[0m, in \u001b[0;36mIndex.get_loc\u001b[0;34m(self, key)\u001b[0m\n\u001b[1;32m   3804\u001b[0m \u001b[38;5;28;01mtry\u001b[39;00m:\n\u001b[0;32m-> 3805\u001b[0m     \u001b[38;5;28;01mreturn\u001b[39;00m \u001b[38;5;28;43mself\u001b[39;49m\u001b[38;5;241;43m.\u001b[39;49m\u001b[43m_engine\u001b[49m\u001b[38;5;241;43m.\u001b[39;49m\u001b[43mget_loc\u001b[49m\u001b[43m(\u001b[49m\u001b[43mcasted_key\u001b[49m\u001b[43m)\u001b[49m\n\u001b[1;32m   3806\u001b[0m \u001b[38;5;28;01mexcept\u001b[39;00m \u001b[38;5;167;01mKeyError\u001b[39;00m \u001b[38;5;28;01mas\u001b[39;00m err:\n",
      "File \u001b[0;32mindex.pyx:167\u001b[0m, in \u001b[0;36mpandas._libs.index.IndexEngine.get_loc\u001b[0;34m()\u001b[0m\n",
      "File \u001b[0;32mindex.pyx:196\u001b[0m, in \u001b[0;36mpandas._libs.index.IndexEngine.get_loc\u001b[0;34m()\u001b[0m\n",
      "File \u001b[0;32mpandas/_libs/hashtable_class_helper.pxi:7081\u001b[0m, in \u001b[0;36mpandas._libs.hashtable.PyObjectHashTable.get_item\u001b[0;34m()\u001b[0m\n",
      "File \u001b[0;32mpandas/_libs/hashtable_class_helper.pxi:7089\u001b[0m, in \u001b[0;36mpandas._libs.hashtable.PyObjectHashTable.get_item\u001b[0;34m()\u001b[0m\n",
      "\u001b[0;31mKeyError\u001b[0m: 'query'",
      "\nThe above exception was the direct cause of the following exception:\n",
      "\u001b[0;31mKeyError\u001b[0m                                  Traceback (most recent call last)",
      "Cell \u001b[0;32mIn[42], line 1\u001b[0m\n\u001b[0;32m----> 1\u001b[0m \u001b[43mdf_posts_split\u001b[49m\u001b[43m[\u001b[49m\u001b[38;5;124;43m'\u001b[39;49m\u001b[38;5;124;43mquery\u001b[39;49m\u001b[38;5;124;43m'\u001b[39;49m\u001b[43m]\u001b[49m[\u001b[38;5;241m62\u001b[39m]\n",
      "File \u001b[0;32m~/.local/lib/python3.11/site-packages/pandas/core/frame.py:4102\u001b[0m, in \u001b[0;36mDataFrame.__getitem__\u001b[0;34m(self, key)\u001b[0m\n\u001b[1;32m   4100\u001b[0m \u001b[38;5;28;01mif\u001b[39;00m \u001b[38;5;28mself\u001b[39m\u001b[38;5;241m.\u001b[39mcolumns\u001b[38;5;241m.\u001b[39mnlevels \u001b[38;5;241m>\u001b[39m \u001b[38;5;241m1\u001b[39m:\n\u001b[1;32m   4101\u001b[0m     \u001b[38;5;28;01mreturn\u001b[39;00m \u001b[38;5;28mself\u001b[39m\u001b[38;5;241m.\u001b[39m_getitem_multilevel(key)\n\u001b[0;32m-> 4102\u001b[0m indexer \u001b[38;5;241m=\u001b[39m \u001b[38;5;28;43mself\u001b[39;49m\u001b[38;5;241;43m.\u001b[39;49m\u001b[43mcolumns\u001b[49m\u001b[38;5;241;43m.\u001b[39;49m\u001b[43mget_loc\u001b[49m\u001b[43m(\u001b[49m\u001b[43mkey\u001b[49m\u001b[43m)\u001b[49m\n\u001b[1;32m   4103\u001b[0m \u001b[38;5;28;01mif\u001b[39;00m is_integer(indexer):\n\u001b[1;32m   4104\u001b[0m     indexer \u001b[38;5;241m=\u001b[39m [indexer]\n",
      "File \u001b[0;32m~/.local/lib/python3.11/site-packages/pandas/core/indexes/base.py:3812\u001b[0m, in \u001b[0;36mIndex.get_loc\u001b[0;34m(self, key)\u001b[0m\n\u001b[1;32m   3807\u001b[0m     \u001b[38;5;28;01mif\u001b[39;00m \u001b[38;5;28misinstance\u001b[39m(casted_key, \u001b[38;5;28mslice\u001b[39m) \u001b[38;5;129;01mor\u001b[39;00m (\n\u001b[1;32m   3808\u001b[0m         \u001b[38;5;28misinstance\u001b[39m(casted_key, abc\u001b[38;5;241m.\u001b[39mIterable)\n\u001b[1;32m   3809\u001b[0m         \u001b[38;5;129;01mand\u001b[39;00m \u001b[38;5;28many\u001b[39m(\u001b[38;5;28misinstance\u001b[39m(x, \u001b[38;5;28mslice\u001b[39m) \u001b[38;5;28;01mfor\u001b[39;00m x \u001b[38;5;129;01min\u001b[39;00m casted_key)\n\u001b[1;32m   3810\u001b[0m     ):\n\u001b[1;32m   3811\u001b[0m         \u001b[38;5;28;01mraise\u001b[39;00m InvalidIndexError(key)\n\u001b[0;32m-> 3812\u001b[0m     \u001b[38;5;28;01mraise\u001b[39;00m \u001b[38;5;167;01mKeyError\u001b[39;00m(key) \u001b[38;5;28;01mfrom\u001b[39;00m \u001b[38;5;21;01merr\u001b[39;00m\n\u001b[1;32m   3813\u001b[0m \u001b[38;5;28;01mexcept\u001b[39;00m \u001b[38;5;167;01mTypeError\u001b[39;00m:\n\u001b[1;32m   3814\u001b[0m     \u001b[38;5;66;03m# If we have a listlike key, _check_indexing_error will raise\u001b[39;00m\n\u001b[1;32m   3815\u001b[0m     \u001b[38;5;66;03m#  InvalidIndexError. Otherwise we fall through and re-raise\u001b[39;00m\n\u001b[1;32m   3816\u001b[0m     \u001b[38;5;66;03m#  the TypeError.\u001b[39;00m\n\u001b[1;32m   3817\u001b[0m     \u001b[38;5;28mself\u001b[39m\u001b[38;5;241m.\u001b[39m_check_indexing_error(key)\n",
      "\u001b[0;31mKeyError\u001b[0m: 'query'"
     ]
    }
   ],
   "source": [
    "df_posts_split['query'][62]"
   ]
  },
  {
   "cell_type": "code",
   "execution_count": 40,
   "id": "8b429f7b-14bb-489f-b11a-e5a321a4c75e",
   "metadata": {},
   "outputs": [
    {
     "name": "stderr",
     "output_type": "stream",
     "text": [
      "/tmp/ipykernel_681080/1856543653.py:1: SettingWithCopyWarning: \n",
      "A value is trying to be set on a copy of a slice from a DataFrame.\n",
      "Try using .loc[row_indexer,col_indexer] = value instead\n",
      "\n",
      "See the caveats in the documentation: https://pandas.pydata.org/pandas-docs/stable/user_guide/indexing.html#returning-a-view-versus-a-copy\n",
      "  df_posts_split['query_ids'] = df_posts_split.index\n"
     ]
    }
   ],
   "source": [
    "df_posts_split['query_ids'] = df_posts_split.index"
   ]
  },
  {
   "cell_type": "code",
   "execution_count": 43,
   "id": "f8b8d468-f189-42a0-9a9a-3fd34b094fbc",
   "metadata": {},
   "outputs": [
    {
     "data": {
      "text/html": [
       "<div>\n",
       "<style scoped>\n",
       "    .dataframe tbody tr th:only-of-type {\n",
       "        vertical-align: middle;\n",
       "    }\n",
       "\n",
       "    .dataframe tbody tr th {\n",
       "        vertical-align: top;\n",
       "    }\n",
       "\n",
       "    .dataframe thead th {\n",
       "        text-align: right;\n",
       "    }\n",
       "</style>\n",
       "<table border=\"1\" class=\"dataframe\">\n",
       "  <thead>\n",
       "    <tr style=\"text-align: right;\">\n",
       "      <th></th>\n",
       "      <th>instances</th>\n",
       "      <th>ocr</th>\n",
       "      <th>verdicts</th>\n",
       "      <th>text</th>\n",
       "      <th>query_ids</th>\n",
       "    </tr>\n",
       "    <tr>\n",
       "      <th>post_id</th>\n",
       "      <th></th>\n",
       "      <th></th>\n",
       "      <th></th>\n",
       "      <th></th>\n",
       "      <th></th>\n",
       "    </tr>\n",
       "  </thead>\n",
       "  <tbody>\n",
       "    <tr>\n",
       "      <th>2</th>\n",
       "      <td>[(1610052141.0, fb), (1610072448.0, fb)]</td>\n",
       "      <td>[(\"Actually, he's a damn sight better than any...</td>\n",
       "      <td>[Missing context]</td>\n",
       "      <td></td>\n",
       "      <td>2</td>\n",
       "    </tr>\n",
       "    <tr>\n",
       "      <th>5</th>\n",
       "      <td>[(1595754861.0, fb)]</td>\n",
       "      <td>[(\"Cigarette smoking does not cause cancer.\" -...</td>\n",
       "      <td>[False information]</td>\n",
       "      <td></td>\n",
       "      <td>5</td>\n",
       "    </tr>\n",
       "    <tr>\n",
       "      <th>13</th>\n",
       "      <td>[(1473438408.0, fb)]</td>\n",
       "      <td>[(\"Environmentalists\" Say Fracking is Evil 53-...</td>\n",
       "      <td>[Partly false information]</td>\n",
       "      <td></td>\n",
       "      <td>13</td>\n",
       "    </tr>\n",
       "    <tr>\n",
       "      <th>14</th>\n",
       "      <td>[(1601665028.0, fb)]</td>\n",
       "      <td>[(\"Environmentalists\" Say Fracking is Evil SAP...</td>\n",
       "      <td>[Partly false information]</td>\n",
       "      <td></td>\n",
       "      <td>14</td>\n",
       "    </tr>\n",
       "    <tr>\n",
       "      <th>15</th>\n",
       "      <td>[(1603642996.0, fb), (1603523078.0, fb)]</td>\n",
       "      <td>[(\"Environmentalists\" Say Fracking is Evil Thi...</td>\n",
       "      <td>[Partly false information]</td>\n",
       "      <td></td>\n",
       "      <td>15</td>\n",
       "    </tr>\n",
       "    <tr>\n",
       "      <th>...</th>\n",
       "      <td>...</td>\n",
       "      <td>...</td>\n",
       "      <td>...</td>\n",
       "      <td>...</td>\n",
       "      <td>...</td>\n",
       "    </tr>\n",
       "    <tr>\n",
       "      <th>28044</th>\n",
       "      <td>[(1592947214.0, fb)]</td>\n",
       "      <td>[(COVID has killed 1.6M people in the world an...</td>\n",
       "      <td>[False information]</td>\n",
       "      <td>(🤦🏾 ♂️🙏🏾🙏🏾, 🤦🏾 ♂️🙏🏾🙏🏾, [(eng, 1.0)])</td>\n",
       "      <td>28044</td>\n",
       "    </tr>\n",
       "    <tr>\n",
       "      <th>28048</th>\n",
       "      <td>[(1615388401.0, fb)]</td>\n",
       "      <td>[]</td>\n",
       "      <td>[False information]</td>\n",
       "      <td>(🤩Why Every Judge On Shark Tank Backed This Pr...</td>\n",
       "      <td>28048</td>\n",
       "    </tr>\n",
       "    <tr>\n",
       "      <th>28061</th>\n",
       "      <td>[(None, fb)]</td>\n",
       "      <td>[(Boris Johnson's dad, Stanley, wrote a novel ...</td>\n",
       "      <td>[]</td>\n",
       "      <td>(🤷, 🤷, [(eng, 1.0)])</td>\n",
       "      <td>28061</td>\n",
       "    </tr>\n",
       "    <tr>\n",
       "      <th>28063</th>\n",
       "      <td>[(1657130896.0, fb)]</td>\n",
       "      <td>[(= HealthSite.com HEALTH A-Z NO MORE DENGUE D...</td>\n",
       "      <td>[Partly false information]</td>\n",
       "      <td>(🤷🏼 ♀️, 🤷🏼 ♀️, [(eng, 1.0)])</td>\n",
       "      <td>28063</td>\n",
       "    </tr>\n",
       "    <tr>\n",
       "      <th>28075</th>\n",
       "      <td>[(1578314448.0, ig)]</td>\n",
       "      <td>[]</td>\n",
       "      <td>[False]</td>\n",
       "      <td>(🦘 This kangaroo was saved by the above volunt...</td>\n",
       "      <td>28075</td>\n",
       "    </tr>\n",
       "  </tbody>\n",
       "</table>\n",
       "<p>4351 rows × 5 columns</p>\n",
       "</div>"
      ],
      "text/plain": [
       "                                        instances  \\\n",
       "post_id                                             \n",
       "2        [(1610052141.0, fb), (1610072448.0, fb)]   \n",
       "5                            [(1595754861.0, fb)]   \n",
       "13                           [(1473438408.0, fb)]   \n",
       "14                           [(1601665028.0, fb)]   \n",
       "15       [(1603642996.0, fb), (1603523078.0, fb)]   \n",
       "...                                           ...   \n",
       "28044                        [(1592947214.0, fb)]   \n",
       "28048                        [(1615388401.0, fb)]   \n",
       "28061                                [(None, fb)]   \n",
       "28063                        [(1657130896.0, fb)]   \n",
       "28075                        [(1578314448.0, ig)]   \n",
       "\n",
       "                                                       ocr  \\\n",
       "post_id                                                      \n",
       "2        [(\"Actually, he's a damn sight better than any...   \n",
       "5        [(\"Cigarette smoking does not cause cancer.\" -...   \n",
       "13       [(\"Environmentalists\" Say Fracking is Evil 53-...   \n",
       "14       [(\"Environmentalists\" Say Fracking is Evil SAP...   \n",
       "15       [(\"Environmentalists\" Say Fracking is Evil Thi...   \n",
       "...                                                    ...   \n",
       "28044    [(COVID has killed 1.6M people in the world an...   \n",
       "28048                                                   []   \n",
       "28061    [(Boris Johnson's dad, Stanley, wrote a novel ...   \n",
       "28063    [(= HealthSite.com HEALTH A-Z NO MORE DENGUE D...   \n",
       "28075                                                   []   \n",
       "\n",
       "                           verdicts  \\\n",
       "post_id                               \n",
       "2                 [Missing context]   \n",
       "5               [False information]   \n",
       "13       [Partly false information]   \n",
       "14       [Partly false information]   \n",
       "15       [Partly false information]   \n",
       "...                             ...   \n",
       "28044           [False information]   \n",
       "28048           [False information]   \n",
       "28061                            []   \n",
       "28063    [Partly false information]   \n",
       "28075                       [False]   \n",
       "\n",
       "                                                      text  query_ids  \n",
       "post_id                                                                \n",
       "2                                                                   2  \n",
       "5                                                                   5  \n",
       "13                                                                 13  \n",
       "14                                                                 14  \n",
       "15                                                                 15  \n",
       "...                                                    ...        ...  \n",
       "28044                 (🤦🏾 ♂️🙏🏾🙏🏾, 🤦🏾 ♂️🙏🏾🙏🏾, [(eng, 1.0)])      28044  \n",
       "28048    (🤩Why Every Judge On Shark Tank Backed This Pr...      28048  \n",
       "28061                                 (🤷, 🤷, [(eng, 1.0)])      28061  \n",
       "28063                         (🤷🏼 ♀️, 🤷🏼 ♀️, [(eng, 1.0)])      28063  \n",
       "28075    (🦘 This kangaroo was saved by the above volunt...      28075  \n",
       "\n",
       "[4351 rows x 5 columns]"
      ]
     },
     "execution_count": 43,
     "metadata": {},
     "output_type": "execute_result"
    }
   ],
   "source": [
    "df_posts_split"
   ]
  },
  {
   "cell_type": "code",
   "execution_count": 44,
   "id": "1f83026d-5a35-49a0-88b1-1744676dc651",
   "metadata": {},
   "outputs": [],
   "source": [
    "df_fact_checks['doc_ids'] = df_fact_checks.index"
   ]
  },
  {
   "cell_type": "code",
   "execution_count": 47,
   "id": "572400a3-7065-47a5-b915-77bf29cc8c68",
   "metadata": {},
   "outputs": [
    {
     "data": {
      "text/html": [
       "<div>\n",
       "<style scoped>\n",
       "    .dataframe tbody tr th:only-of-type {\n",
       "        vertical-align: middle;\n",
       "    }\n",
       "\n",
       "    .dataframe tbody tr th {\n",
       "        vertical-align: top;\n",
       "    }\n",
       "\n",
       "    .dataframe thead th {\n",
       "        text-align: right;\n",
       "    }\n",
       "</style>\n",
       "<table border=\"1\" class=\"dataframe\">\n",
       "  <thead>\n",
       "    <tr style=\"text-align: right;\">\n",
       "      <th></th>\n",
       "      <th>claim</th>\n",
       "      <th>instances</th>\n",
       "      <th>title</th>\n",
       "      <th>doc_ids</th>\n",
       "    </tr>\n",
       "    <tr>\n",
       "      <th>fact_check_id</th>\n",
       "      <th></th>\n",
       "      <th></th>\n",
       "      <th></th>\n",
       "      <th></th>\n",
       "    </tr>\n",
       "  </thead>\n",
       "  <tbody>\n",
       "    <tr>\n",
       "      <th>0</th>\n",
       "      <td>( Are avocados good for you?,  Are avocados go...</td>\n",
       "      <td>[(1525653998.0, https://metafact.io/factchecks...</td>\n",
       "      <td></td>\n",
       "      <td>0</td>\n",
       "    </tr>\n",
       "    <tr>\n",
       "      <th>1</th>\n",
       "      <td>( Can animals have headaches?,  Can animals ha...</td>\n",
       "      <td>[(1617955634.0, https://metafact.io/factchecks...</td>\n",
       "      <td></td>\n",
       "      <td>1</td>\n",
       "    </tr>\n",
       "    <tr>\n",
       "      <th>2</th>\n",
       "      <td>( Can we help prevent Alzheimer's with diet?, ...</td>\n",
       "      <td>[(1525653998.0, https://metafact.io/factchecks...</td>\n",
       "      <td></td>\n",
       "      <td>2</td>\n",
       "    </tr>\n",
       "    <tr>\n",
       "      <th>3</th>\n",
       "      <td>( Do any benefits of alcohol outweigh the risk...</td>\n",
       "      <td>[(1525653998.0, https://metafact.io/factchecks...</td>\n",
       "      <td></td>\n",
       "      <td>3</td>\n",
       "    </tr>\n",
       "    <tr>\n",
       "      <th>4</th>\n",
       "      <td>( Does acupuncture work for headaches?,  Does ...</td>\n",
       "      <td>[(1617955595.0, https://metafact.io/factchecks...</td>\n",
       "      <td></td>\n",
       "      <td>4</td>\n",
       "    </tr>\n",
       "    <tr>\n",
       "      <th>...</th>\n",
       "      <td>...</td>\n",
       "      <td>...</td>\n",
       "      <td>...</td>\n",
       "      <td>...</td>\n",
       "    </tr>\n",
       "    <tr>\n",
       "      <th>202885</th>\n",
       "      <td>(€500,000 COVID-19 fraud was traced to Nigeria...</td>\n",
       "      <td>[(1609372740.0, https://dubawa.org/how-true-is...</td>\n",
       "      <td>(How true is the claim that €500,000 COVID-19 ...</td>\n",
       "      <td>202885</td>\n",
       "    </tr>\n",
       "    <tr>\n",
       "      <th>202887</th>\n",
       "      <td>(₹2000 note to be discarded from October 10, 2...</td>\n",
       "      <td>[(1570454615.0, https://www.boomlive.in/₹2000-...</td>\n",
       "      <td>(₹2000 Note To Be Discontinued From Oct 10? Wh...</td>\n",
       "      <td>202887</td>\n",
       "    </tr>\n",
       "    <tr>\n",
       "      <th>205741</th>\n",
       "      <td>(𝐀𝐝𝐢𝐝𝐚𝐬 is giving away 3000 Free Pair of Shoes...</td>\n",
       "      <td>[(1599387035.0, https://hindi.asianetnews.com/...</td>\n",
       "      <td>(adidas मुफ्त दे रहा है 3100 जूते और टीशर्ट्स?...</td>\n",
       "      <td>205741</td>\n",
       "    </tr>\n",
       "    <tr>\n",
       "      <th>205742</th>\n",
       "      <td>(𝐔𝐒𝐀 𝐌𝐈𝐋𝐈𝐓𝐀𝐑𝐘 𝐀𝐓 𝐓𝐇𝐄 𝐖𝐇𝐈𝐓𝐄 𝐇𝐎𝐔𝐒𝐄 𝐀𝐑𝐑𝐄𝐒𝐓𝐈𝐍𝐆 𝐂𝐎𝐍...</td>\n",
       "      <td>[(1654875008.0, https://leadstories.com/hoax-a...</td>\n",
       "      <td>(Fact Check: US Military Did NOT Arrest Congre...</td>\n",
       "      <td>205742</td>\n",
       "    </tr>\n",
       "    <tr>\n",
       "      <th>205745</th>\n",
       "      <td>(👆This little beautiful girl was seen in Manga...</td>\n",
       "      <td>[(1576281540.0, https://youturn.in/articles/ch...</td>\n",
       "      <td>(மங்களூரில் பிச்சை எடுக்கும் குழுவில் மீட்கப்ப...</td>\n",
       "      <td>205745</td>\n",
       "    </tr>\n",
       "  </tbody>\n",
       "</table>\n",
       "<p>85734 rows × 4 columns</p>\n",
       "</div>"
      ],
      "text/plain": [
       "                                                           claim  \\\n",
       "fact_check_id                                                      \n",
       "0              ( Are avocados good for you?,  Are avocados go...   \n",
       "1              ( Can animals have headaches?,  Can animals ha...   \n",
       "2              ( Can we help prevent Alzheimer's with diet?, ...   \n",
       "3              ( Do any benefits of alcohol outweigh the risk...   \n",
       "4              ( Does acupuncture work for headaches?,  Does ...   \n",
       "...                                                          ...   \n",
       "202885         (€500,000 COVID-19 fraud was traced to Nigeria...   \n",
       "202887         (₹2000 note to be discarded from October 10, 2...   \n",
       "205741         (𝐀𝐝𝐢𝐝𝐚𝐬 is giving away 3000 Free Pair of Shoes...   \n",
       "205742         (𝐔𝐒𝐀 𝐌𝐈𝐋𝐈𝐓𝐀𝐑𝐘 𝐀𝐓 𝐓𝐇𝐄 𝐖𝐇𝐈𝐓𝐄 𝐇𝐎𝐔𝐒𝐄 𝐀𝐑𝐑𝐄𝐒𝐓𝐈𝐍𝐆 𝐂𝐎𝐍...   \n",
       "205745         (👆This little beautiful girl was seen in Manga...   \n",
       "\n",
       "                                                       instances  \\\n",
       "fact_check_id                                                      \n",
       "0              [(1525653998.0, https://metafact.io/factchecks...   \n",
       "1              [(1617955634.0, https://metafact.io/factchecks...   \n",
       "2              [(1525653998.0, https://metafact.io/factchecks...   \n",
       "3              [(1525653998.0, https://metafact.io/factchecks...   \n",
       "4              [(1617955595.0, https://metafact.io/factchecks...   \n",
       "...                                                          ...   \n",
       "202885         [(1609372740.0, https://dubawa.org/how-true-is...   \n",
       "202887         [(1570454615.0, https://www.boomlive.in/₹2000-...   \n",
       "205741         [(1599387035.0, https://hindi.asianetnews.com/...   \n",
       "205742         [(1654875008.0, https://leadstories.com/hoax-a...   \n",
       "205745         [(1576281540.0, https://youturn.in/articles/ch...   \n",
       "\n",
       "                                                           title  doc_ids  \n",
       "fact_check_id                                                              \n",
       "0                                                                       0  \n",
       "1                                                                       1  \n",
       "2                                                                       2  \n",
       "3                                                                       3  \n",
       "4                                                                       4  \n",
       "...                                                          ...      ...  \n",
       "202885         (How true is the claim that €500,000 COVID-19 ...   202885  \n",
       "202887         (₹2000 Note To Be Discontinued From Oct 10? Wh...   202887  \n",
       "205741         (adidas मुफ्त दे रहा है 3100 जूते और टीशर्ट्स?...   205741  \n",
       "205742         (Fact Check: US Military Did NOT Arrest Congre...   205742  \n",
       "205745         (மங்களூரில் பிச்சை எடுக்கும் குழுவில் மீட்கப்ப...   205745  \n",
       "\n",
       "[85734 rows x 4 columns]"
      ]
     },
     "execution_count": 47,
     "metadata": {},
     "output_type": "execute_result"
    }
   ],
   "source": [
    "df_fact_checks"
   ]
  },
  {
   "cell_type": "code",
   "execution_count": 51,
   "id": "202f0795-2871-4700-8224-1e03b390b365",
   "metadata": {},
   "outputs": [
    {
     "data": {
      "text/plain": [
       "(' Can animals have headaches?',\n",
       " ' Can animals have headaches?',\n",
       " [('eng', 1.0)])"
      ]
     },
     "execution_count": 51,
     "metadata": {},
     "output_type": "execute_result"
    }
   ],
   "source": [
    "df_fact_checks['claim'][1]"
   ]
  },
  {
   "cell_type": "code",
   "execution_count": 66,
   "id": "8d4b0a35-b628-4704-a157-585d84f45638",
   "metadata": {},
   "outputs": [],
   "source": [
    "doc_list = df_fact_checks['doc'].astype(str).tolist()"
   ]
  },
  {
   "cell_type": "code",
   "execution_count": 68,
   "id": "19e4c117-9b3e-4840-a9f3-122cabd92b5b",
   "metadata": {},
   "outputs": [
    {
     "data": {
      "text/plain": [
       "153743"
      ]
     },
     "execution_count": 68,
     "metadata": {},
     "output_type": "execute_result"
    }
   ],
   "source": [
    "len(doc_list)"
   ]
  },
  {
   "cell_type": "code",
   "execution_count": 130,
   "id": "94b8754e-6baf-463c-87c9-1db96e41fe4c",
   "metadata": {},
   "outputs": [
    {
     "name": "stderr",
     "output_type": "stream",
     "text": [
      "/tmp/ipykernel_1496814/3424262930.py:4: SettingWithCopyWarning: \n",
      "A value is trying to be set on a copy of a slice from a DataFrame.\n",
      "Try using .loc[row_indexer,col_indexer] = value instead\n",
      "\n",
      "See the caveats in the documentation: https://pandas.pydata.org/pandas-docs/stable/user_guide/indexing.html#returning-a-view-versus-a-copy\n",
      "  df_posts_split['ocr_all_srclang'] = df_posts_split['ocr'].apply(lambda x: ' '.join([i[0] for i in x]) if x else \"\")\n",
      "/tmp/ipykernel_1496814/3424262930.py:7: SettingWithCopyWarning: \n",
      "A value is trying to be set on a copy of a slice from a DataFrame.\n",
      "Try using .loc[row_indexer,col_indexer] = value instead\n",
      "\n",
      "See the caveats in the documentation: https://pandas.pydata.org/pandas-docs/stable/user_guide/indexing.html#returning-a-view-versus-a-copy\n",
      "  df_posts_split['text_srclang'] = df_posts_split['text'].apply(lambda x: x[0] if x else \"\")\n",
      "/tmp/ipykernel_1496814/3424262930.py:10: SettingWithCopyWarning: \n",
      "A value is trying to be set on a copy of a slice from a DataFrame.\n",
      "Try using .loc[row_indexer,col_indexer] = value instead\n",
      "\n",
      "See the caveats in the documentation: https://pandas.pydata.org/pandas-docs/stable/user_guide/indexing.html#returning-a-view-versus-a-copy\n",
      "  df_posts_split['query'] = df_posts_split['ocr_all_srclang'] + ' ' + df_posts_split['text_srclang']\n"
     ]
    }
   ],
   "source": [
    "## Extract the source language \n",
    "\n",
    "# concat all OCR text from source language (0th index)\n",
    "df_posts_split['ocr_all_srclang'] = df_posts_split['ocr'].apply(lambda x: ' '.join([i[0] for i in x]) if x else \"\")\n",
    "\n",
    "# extract text from source language (0th index)\n",
    "df_posts_split['text_srclang'] = df_posts_split['text'].apply(lambda x: x[0] if x else \"\")\n",
    "\n",
    "# query: OCR + text\n",
    "df_posts_split['query'] = df_posts_split['ocr_all_srclang'] + ' ' + df_posts_split['text_srclang']\n",
    "\n",
    "# extract claim and title from source language (0th index)\n",
    "df_fact_checks['claim_srclang'] = df_fact_checks['claim'].apply(lambda x: x[0] if x else \"\")\n",
    "df_fact_checks['title_srclang'] = df_fact_checks['title'].apply(lambda x: x[0] if x else \"\")\n",
    "\n",
    "# doc: claim + title\n",
    "df_fact_checks['doc'] = df_fact_checks['claim_srclang'] + ' ' + df_fact_checks['title_srclang']"
   ]
  },
  {
   "cell_type": "code",
   "execution_count": 134,
   "id": "4e774b26-f3f4-475a-979c-c4aa53c5970c",
   "metadata": {},
   "outputs": [
    {
     "data": {
      "text/plain": [
       "85734"
      ]
     },
     "execution_count": 134,
     "metadata": {},
     "output_type": "execute_result"
    }
   ],
   "source": [
    "len(df_fact_checks)"
   ]
  },
  {
   "cell_type": "code",
   "execution_count": 135,
   "id": "ff8407e7-4338-4469-9827-66ae8774da8e",
   "metadata": {},
   "outputs": [
    {
     "data": {
      "text/plain": [
       "4351"
      ]
     },
     "execution_count": 135,
     "metadata": {},
     "output_type": "execute_result"
    }
   ],
   "source": [
    "len(df_posts_split)"
   ]
  },
  {
   "cell_type": "code",
   "execution_count": 52,
   "id": "e4e4a489-6500-457a-9f5e-3e7a15b5fbae",
   "metadata": {},
   "outputs": [
    {
     "name": "stdout",
     "output_type": "stream",
     "text": [
      "DataFrame successfully saved to docs_monolingual.csv\n"
     ]
    }
   ],
   "source": [
    "save_dataframe_to_csv(df_fact_checks,\"docs_monolingual.csv\")"
   ]
  },
  {
   "cell_type": "code",
   "execution_count": 53,
   "id": "d385d37d-de4b-4a86-8b50-ac458b1ab237",
   "metadata": {},
   "outputs": [
    {
     "name": "stdout",
     "output_type": "stream",
     "text": [
      "DataFrame successfully saved to queries_monolingual.csv\n"
     ]
    }
   ],
   "source": [
    "save_dataframe_to_csv(df_posts_split ,\"queries_monolingual.csv\")"
   ]
  },
  {
   "cell_type": "code",
   "execution_count": 56,
   "id": "b59f3503-7468-4e7e-8c4d-49851f4ac86c",
   "metadata": {},
   "outputs": [
    {
     "name": "stdout",
     "output_type": "stream",
     "text": [
      "/gypsum/work1/allan/anijasure/multilingual_semeval/IRMultiLingualSemEval\n"
     ]
    }
   ],
   "source": [
    "!pwd"
   ]
  },
  {
   "cell_type": "code",
   "execution_count": 58,
   "id": "985a4ff2-03d8-4350-98b8-78a429880f0f",
   "metadata": {},
   "outputs": [],
   "source": [
    "import pandas as pd\n",
    "df_docs = pd.read_csv(\"docs_monolingual.csv\")\n",
    "doc_ids = df_docs['doc_ids'].tolist()"
   ]
  },
  {
   "cell_type": "code",
   "execution_count": 59,
   "id": "ea4afe30-3175-48d0-9bf9-82165d244d8b",
   "metadata": {},
   "outputs": [],
   "source": [
    "df_queries = pd.read_csv(\"queries_monolingual.csv\")\n",
    "query_ids = df_queries['query_ids'].tolist()"
   ]
  },
  {
   "cell_type": "code",
   "execution_count": 61,
   "id": "fe33c327-e997-4fa0-bce3-c170e7ca2f3c",
   "metadata": {},
   "outputs": [
    {
     "data": {
      "text/plain": [
       "Index(['fact_check_id', 'claim', 'instances', 'title', 'doc_ids'], dtype='object')"
      ]
     },
     "execution_count": 61,
     "metadata": {},
     "output_type": "execute_result"
    }
   ],
   "source": [
    "df_docs.columns"
   ]
  },
  {
   "cell_type": "code",
   "execution_count": 95,
   "id": "2e0d1f5f-283d-4183-a2da-7168e0c5ebd1",
   "metadata": {},
   "outputs": [
    {
     "data": {
      "text/plain": [
       "52474"
      ]
     },
     "execution_count": 95,
     "metadata": {},
     "output_type": "execute_result"
    }
   ],
   "source": [
    "df_docs['doc_ids'][45603]"
   ]
  },
  {
   "cell_type": "code",
   "execution_count": 92,
   "id": "b6e3ead5-6820-4b97-9238-ba9f0cc2786e",
   "metadata": {},
   "outputs": [
    {
     "data": {
      "text/html": [
       "<div>\n",
       "<style scoped>\n",
       "    .dataframe tbody tr th:only-of-type {\n",
       "        vertical-align: middle;\n",
       "    }\n",
       "\n",
       "    .dataframe tbody tr th {\n",
       "        vertical-align: top;\n",
       "    }\n",
       "\n",
       "    .dataframe thead th {\n",
       "        text-align: right;\n",
       "    }\n",
       "</style>\n",
       "<table border=\"1\" class=\"dataframe\">\n",
       "  <thead>\n",
       "    <tr style=\"text-align: right;\">\n",
       "      <th></th>\n",
       "      <th>fact_check_id</th>\n",
       "      <th>claim</th>\n",
       "      <th>instances</th>\n",
       "      <th>title</th>\n",
       "      <th>claim_srclang</th>\n",
       "      <th>title_srclang</th>\n",
       "      <th>doc</th>\n",
       "      <th>doc_ids</th>\n",
       "    </tr>\n",
       "  </thead>\n",
       "  <tbody>\n",
       "    <tr>\n",
       "      <th>39716</th>\n",
       "      <td>45603</td>\n",
       "      <td>('Diesel price has been reduced by Rs 8 in Del...</td>\n",
       "      <td>[(1627948680.0, 'https://newsmobile.in/article...</td>\n",
       "      <td>('Fact Check: Old News About Diesel Price Redu...</td>\n",
       "      <td>Diesel price has been reduced by Rs 8 in Delhi</td>\n",
       "      <td>Fact Check: Old News About Diesel Price Reduct...</td>\n",
       "      <td>Diesel price has been reduced by Rs 8 in Delhi...</td>\n",
       "      <td>45603</td>\n",
       "    </tr>\n",
       "  </tbody>\n",
       "</table>\n",
       "</div>"
      ],
      "text/plain": [
       "       fact_check_id                                              claim  \\\n",
       "39716          45603  ('Diesel price has been reduced by Rs 8 in Del...   \n",
       "\n",
       "                                               instances  \\\n",
       "39716  [(1627948680.0, 'https://newsmobile.in/article...   \n",
       "\n",
       "                                                   title  \\\n",
       "39716  ('Fact Check: Old News About Diesel Price Redu...   \n",
       "\n",
       "                                        claim_srclang  \\\n",
       "39716  Diesel price has been reduced by Rs 8 in Delhi   \n",
       "\n",
       "                                           title_srclang  \\\n",
       "39716  Fact Check: Old News About Diesel Price Reduct...   \n",
       "\n",
       "                                                     doc  doc_ids  \n",
       "39716  Diesel price has been reduced by Rs 8 in Delhi...    45603  "
      ]
     },
     "execution_count": 92,
     "metadata": {},
     "output_type": "execute_result"
    }
   ],
   "source": [
    "df_docs[df_docs['doc_ids'] == 45603]"
   ]
  },
  {
   "cell_type": "code",
   "execution_count": 91,
   "id": "44279a71-5167-4aff-a20c-a586d9011b41",
   "metadata": {},
   "outputs": [
    {
     "data": {
      "text/html": [
       "<div>\n",
       "<style scoped>\n",
       "    .dataframe tbody tr th:only-of-type {\n",
       "        vertical-align: middle;\n",
       "    }\n",
       "\n",
       "    .dataframe tbody tr th {\n",
       "        vertical-align: top;\n",
       "    }\n",
       "\n",
       "    .dataframe thead th {\n",
       "        text-align: right;\n",
       "    }\n",
       "</style>\n",
       "<table border=\"1\" class=\"dataframe\">\n",
       "  <thead>\n",
       "    <tr style=\"text-align: right;\">\n",
       "      <th></th>\n",
       "      <th>post_id</th>\n",
       "      <th>instances</th>\n",
       "      <th>ocr</th>\n",
       "      <th>verdicts</th>\n",
       "      <th>text</th>\n",
       "      <th>ocr_all_srclang</th>\n",
       "      <th>text_srclang</th>\n",
       "      <th>query</th>\n",
       "      <th>query_ids</th>\n",
       "    </tr>\n",
       "  </thead>\n",
       "  <tbody>\n",
       "    <tr>\n",
       "      <th>0</th>\n",
       "      <td>3</td>\n",
       "      <td>[(1645187790.0, 'ig')]</td>\n",
       "      <td>[('\"Australia 50 MILLONES de dosis de \"vacuna\"...</td>\n",
       "      <td>['False']</td>\n",
       "      <td>NaN</td>\n",
       "      <td>\"Australia 50 MILLONES de dosis de \"vacuna\" re...</td>\n",
       "      <td>NaN</td>\n",
       "      <td>\"Australia 50 MILLONES de dosis de \"vacuna\" re...</td>\n",
       "      <td>3</td>\n",
       "    </tr>\n",
       "    <tr>\n",
       "      <th>1</th>\n",
       "      <td>16</td>\n",
       "      <td>[(1633129058.0, 'fb')]</td>\n",
       "      <td>[('\"Estrictamente y hablando con sentido, la c...</td>\n",
       "      <td>['Partly false information']</td>\n",
       "      <td>NaN</td>\n",
       "      <td>\"Estrictamente y hablando con sentido, la conq...</td>\n",
       "      <td>NaN</td>\n",
       "      <td>\"Estrictamente y hablando con sentido, la conq...</td>\n",
       "      <td>16</td>\n",
       "    </tr>\n",
       "    <tr>\n",
       "      <th>2</th>\n",
       "      <td>30</td>\n",
       "      <td>[(1598378047.0, 'fb')]</td>\n",
       "      <td>[('\"No es necesario creer en Dios para ser una...</td>\n",
       "      <td>['False information']</td>\n",
       "      <td>NaN</td>\n",
       "      <td>\"No es necesario creer en Dios para ser una bu...</td>\n",
       "      <td>NaN</td>\n",
       "      <td>\"No es necesario creer en Dios para ser una bu...</td>\n",
       "      <td>30</td>\n",
       "    </tr>\n",
       "    <tr>\n",
       "      <th>3</th>\n",
       "      <td>60</td>\n",
       "      <td>[(1631046537.0, 'fb')]</td>\n",
       "      <td>[('#Artés Presidente #Save Palestine ... [USER...</td>\n",
       "      <td>['Partly false information']</td>\n",
       "      <td>NaN</td>\n",
       "      <td>#Artés Presidente #Save Palestine ... [USER] M...</td>\n",
       "      <td>NaN</td>\n",
       "      <td>#Artés Presidente #Save Palestine ... [USER] M...</td>\n",
       "      <td>60</td>\n",
       "    </tr>\n",
       "    <tr>\n",
       "      <th>4</th>\n",
       "      <td>62</td>\n",
       "      <td>[(1649941805.0, 'fb')]</td>\n",
       "      <td>[(\"#CNN: Child soldiers are ok if they are to ...</td>\n",
       "      <td>['Altered photo']</td>\n",
       "      <td>NaN</td>\n",
       "      <td>#CNN: Child soldiers are ok if they are to def...</td>\n",
       "      <td>NaN</td>\n",
       "      <td>#CNN: Child soldiers are ok if they are to def...</td>\n",
       "      <td>62</td>\n",
       "    </tr>\n",
       "    <tr>\n",
       "      <th>...</th>\n",
       "      <td>...</td>\n",
       "      <td>...</td>\n",
       "      <td>...</td>\n",
       "      <td>...</td>\n",
       "      <td>...</td>\n",
       "      <td>...</td>\n",
       "      <td>...</td>\n",
       "      <td>...</td>\n",
       "      <td>...</td>\n",
       "    </tr>\n",
       "    <tr>\n",
       "      <th>4967</th>\n",
       "      <td>28056</td>\n",
       "      <td>[(1643613736.0, 'fb')]</td>\n",
       "      <td>[('Foto: EPA Es ist nur eine Frage von Zeit, b...</td>\n",
       "      <td>['Altered photo']</td>\n",
       "      <td>('🤮', '🤮', [('und', 1.0)])</td>\n",
       "      <td>Foto: EPA Es ist nur eine Frage von Zeit, bis ...</td>\n",
       "      <td>🤮</td>\n",
       "      <td>Foto: EPA Es ist nur eine Frage von Zeit, bis ...</td>\n",
       "      <td>28056</td>\n",
       "    </tr>\n",
       "    <tr>\n",
       "      <th>4968</th>\n",
       "      <td>28074</td>\n",
       "      <td>[(1629072979.0, 'fb'), (1629072967.0, 'fb')]</td>\n",
       "      <td>[]</td>\n",
       "      <td>['False information']</td>\n",
       "      <td>('🦑 Ladrão desembarcou hoje em recife olha a m...</td>\n",
       "      <td>NaN</td>\n",
       "      <td>🦑 Ladrão desembarcou hoje em recife olha a mul...</td>\n",
       "      <td>🦑 Ladrão desembarcou hoje em recife olha a mu...</td>\n",
       "      <td>28074</td>\n",
       "    </tr>\n",
       "    <tr>\n",
       "      <th>4969</th>\n",
       "      <td>28087</td>\n",
       "      <td>[(1653138895.0, 'fb')]</td>\n",
       "      <td>[('bruising runny ed 1 e Contents of the pack ...</td>\n",
       "      <td>['Missing context']</td>\n",
       "      <td>('🧐🧐🧐', '🧐🧐🧐', [('eng', 1.0)])</td>\n",
       "      <td>bruising runny ed 1 e Contents of the pack and...</td>\n",
       "      <td>🧐🧐🧐</td>\n",
       "      <td>bruising runny ed 1 e Contents of the pack and...</td>\n",
       "      <td>28087</td>\n",
       "    </tr>\n",
       "    <tr>\n",
       "      <th>4970</th>\n",
       "      <td>28090</td>\n",
       "      <td>[(1646255245.0, 'tw')]</td>\n",
       "      <td>[('Number of Covid-19 Deaths 4500 4000 3500 30...</td>\n",
       "      <td>[]</td>\n",
       "      <td>('🧵Enquanto você se distrai com a invasão da R...</td>\n",
       "      <td>Number of Covid-19 Deaths 4500 4000 3500 3000 ...</td>\n",
       "      <td>🧵Enquanto você se distrai com a invasão da Rús...</td>\n",
       "      <td>Number of Covid-19 Deaths 4500 4000 3500 3000 ...</td>\n",
       "      <td>28090</td>\n",
       "    </tr>\n",
       "    <tr>\n",
       "      <th>4971</th>\n",
       "      <td>28091</td>\n",
       "      <td>[(None, 'fb')]</td>\n",
       "      <td>[('대중성과 발 전문적인 답반부터 하시면 시간방에 보십시', 'Popularity...</td>\n",
       "      <td>[]</td>\n",
       "      <td>('🧿 대통령은 아바타... \"대통령님, 말문 막히시면 원론적인 답변부터 하시며 시...</td>\n",
       "      <td>대중성과 발 전문적인 답반부터 하시면 시간방에 보십시</td>\n",
       "      <td>🧿 대통령은 아바타... \"대통령님, 말문 막히시면 원론적인 답변부터 하시며 시간을...</td>\n",
       "      <td>대중성과 발 전문적인 답반부터 하시면 시간방에 보십시 🧿 대통령은 아바타... \"대...</td>\n",
       "      <td>28091</td>\n",
       "    </tr>\n",
       "  </tbody>\n",
       "</table>\n",
       "<p>4972 rows × 9 columns</p>\n",
       "</div>"
      ],
      "text/plain": [
       "      post_id                                     instances  \\\n",
       "0           3                        [(1645187790.0, 'ig')]   \n",
       "1          16                        [(1633129058.0, 'fb')]   \n",
       "2          30                        [(1598378047.0, 'fb')]   \n",
       "3          60                        [(1631046537.0, 'fb')]   \n",
       "4          62                        [(1649941805.0, 'fb')]   \n",
       "...       ...                                           ...   \n",
       "4967    28056                        [(1643613736.0, 'fb')]   \n",
       "4968    28074  [(1629072979.0, 'fb'), (1629072967.0, 'fb')]   \n",
       "4969    28087                        [(1653138895.0, 'fb')]   \n",
       "4970    28090                        [(1646255245.0, 'tw')]   \n",
       "4971    28091                                [(None, 'fb')]   \n",
       "\n",
       "                                                    ocr  \\\n",
       "0     [('\"Australia 50 MILLONES de dosis de \"vacuna\"...   \n",
       "1     [('\"Estrictamente y hablando con sentido, la c...   \n",
       "2     [('\"No es necesario creer en Dios para ser una...   \n",
       "3     [('#Artés Presidente #Save Palestine ... [USER...   \n",
       "4     [(\"#CNN: Child soldiers are ok if they are to ...   \n",
       "...                                                 ...   \n",
       "4967  [('Foto: EPA Es ist nur eine Frage von Zeit, b...   \n",
       "4968                                                 []   \n",
       "4969  [('bruising runny ed 1 e Contents of the pack ...   \n",
       "4970  [('Number of Covid-19 Deaths 4500 4000 3500 30...   \n",
       "4971  [('대중성과 발 전문적인 답반부터 하시면 시간방에 보십시', 'Popularity...   \n",
       "\n",
       "                          verdicts  \\\n",
       "0                        ['False']   \n",
       "1     ['Partly false information']   \n",
       "2            ['False information']   \n",
       "3     ['Partly false information']   \n",
       "4                ['Altered photo']   \n",
       "...                            ...   \n",
       "4967             ['Altered photo']   \n",
       "4968         ['False information']   \n",
       "4969           ['Missing context']   \n",
       "4970                            []   \n",
       "4971                            []   \n",
       "\n",
       "                                                   text  \\\n",
       "0                                                   NaN   \n",
       "1                                                   NaN   \n",
       "2                                                   NaN   \n",
       "3                                                   NaN   \n",
       "4                                                   NaN   \n",
       "...                                                 ...   \n",
       "4967                         ('🤮', '🤮', [('und', 1.0)])   \n",
       "4968  ('🦑 Ladrão desembarcou hoje em recife olha a m...   \n",
       "4969                     ('🧐🧐🧐', '🧐🧐🧐', [('eng', 1.0)])   \n",
       "4970  ('🧵Enquanto você se distrai com a invasão da R...   \n",
       "4971  ('🧿 대통령은 아바타... \"대통령님, 말문 막히시면 원론적인 답변부터 하시며 시...   \n",
       "\n",
       "                                        ocr_all_srclang  \\\n",
       "0     \"Australia 50 MILLONES de dosis de \"vacuna\" re...   \n",
       "1     \"Estrictamente y hablando con sentido, la conq...   \n",
       "2     \"No es necesario creer en Dios para ser una bu...   \n",
       "3     #Artés Presidente #Save Palestine ... [USER] M...   \n",
       "4     #CNN: Child soldiers are ok if they are to def...   \n",
       "...                                                 ...   \n",
       "4967  Foto: EPA Es ist nur eine Frage von Zeit, bis ...   \n",
       "4968                                                NaN   \n",
       "4969  bruising runny ed 1 e Contents of the pack and...   \n",
       "4970  Number of Covid-19 Deaths 4500 4000 3500 3000 ...   \n",
       "4971                      대중성과 발 전문적인 답반부터 하시면 시간방에 보십시   \n",
       "\n",
       "                                           text_srclang  \\\n",
       "0                                                   NaN   \n",
       "1                                                   NaN   \n",
       "2                                                   NaN   \n",
       "3                                                   NaN   \n",
       "4                                                   NaN   \n",
       "...                                                 ...   \n",
       "4967                                                  🤮   \n",
       "4968  🦑 Ladrão desembarcou hoje em recife olha a mul...   \n",
       "4969                                                🧐🧐🧐   \n",
       "4970  🧵Enquanto você se distrai com a invasão da Rús...   \n",
       "4971  🧿 대통령은 아바타... \"대통령님, 말문 막히시면 원론적인 답변부터 하시며 시간을...   \n",
       "\n",
       "                                                  query  query_ids  \n",
       "0     \"Australia 50 MILLONES de dosis de \"vacuna\" re...          3  \n",
       "1     \"Estrictamente y hablando con sentido, la conq...         16  \n",
       "2     \"No es necesario creer en Dios para ser una bu...         30  \n",
       "3     #Artés Presidente #Save Palestine ... [USER] M...         60  \n",
       "4     #CNN: Child soldiers are ok if they are to def...         62  \n",
       "...                                                 ...        ...  \n",
       "4967  Foto: EPA Es ist nur eine Frage von Zeit, bis ...      28056  \n",
       "4968   🦑 Ladrão desembarcou hoje em recife olha a mu...      28074  \n",
       "4969  bruising runny ed 1 e Contents of the pack and...      28087  \n",
       "4970  Number of Covid-19 Deaths 4500 4000 3500 3000 ...      28090  \n",
       "4971  대중성과 발 전문적인 답반부터 하시면 시간방에 보십시 🧿 대통령은 아바타... \"대...      28091  \n",
       "\n",
       "[4972 rows x 9 columns]"
      ]
     },
     "execution_count": 91,
     "metadata": {},
     "output_type": "execute_result"
    }
   ],
   "source": [
    "df_queries[df_queries['query_ids'] == 3]"
   ]
  },
  {
   "cell_type": "code",
   "execution_count": null,
   "id": "b71de3be-bf3c-4b56-b91f-1e0ea9795a12",
   "metadata": {},
   "outputs": [],
   "source": []
  },
  {
   "cell_type": "code",
   "execution_count": 86,
   "id": "bf73d0c6-ec95-44aa-b115-ca27d1665c97",
   "metadata": {},
   "outputs": [
    {
     "data": {
      "text/plain": [
       "4972"
      ]
     },
     "execution_count": 86,
     "metadata": {},
     "output_type": "execute_result"
    }
   ],
   "source": [
    "len(query_ids)"
   ]
  },
  {
   "cell_type": "code",
   "execution_count": 90,
   "id": "2da458ba-44b9-4637-b9b1-e6dc542c3b18",
   "metadata": {},
   "outputs": [
    {
     "data": {
      "text/html": [
       "<div>\n",
       "<style scoped>\n",
       "    .dataframe tbody tr th:only-of-type {\n",
       "        vertical-align: middle;\n",
       "    }\n",
       "\n",
       "    .dataframe tbody tr th {\n",
       "        vertical-align: top;\n",
       "    }\n",
       "\n",
       "    .dataframe thead th {\n",
       "        text-align: right;\n",
       "    }\n",
       "</style>\n",
       "<table border=\"1\" class=\"dataframe\">\n",
       "  <thead>\n",
       "    <tr style=\"text-align: right;\">\n",
       "      <th></th>\n",
       "      <th>fact_check_id</th>\n",
       "      <th>claim</th>\n",
       "      <th>instances</th>\n",
       "      <th>title</th>\n",
       "      <th>claim_srclang</th>\n",
       "      <th>title_srclang</th>\n",
       "      <th>doc</th>\n",
       "      <th>doc_ids</th>\n",
       "    </tr>\n",
       "  </thead>\n",
       "  <tbody>\n",
       "    <tr>\n",
       "      <th>0</th>\n",
       "      <td>0</td>\n",
       "      <td>(' Are avocados good for you?', ' Are avocados...</td>\n",
       "      <td>[(1525653998.0, 'https://metafact.io/factcheck...</td>\n",
       "      <td>NaN</td>\n",
       "      <td>Are avocados good for you?</td>\n",
       "      <td>NaN</td>\n",
       "      <td>Are avocados good for you?</td>\n",
       "      <td>0</td>\n",
       "    </tr>\n",
       "    <tr>\n",
       "      <th>1</th>\n",
       "      <td>1</td>\n",
       "      <td>(' Can animals have headaches?', ' Can animals...</td>\n",
       "      <td>[(1617955634.0, 'https://metafact.io/factcheck...</td>\n",
       "      <td>NaN</td>\n",
       "      <td>Can animals have headaches?</td>\n",
       "      <td>NaN</td>\n",
       "      <td>Can animals have headaches?</td>\n",
       "      <td>1</td>\n",
       "    </tr>\n",
       "    <tr>\n",
       "      <th>2</th>\n",
       "      <td>2</td>\n",
       "      <td>(\" Can we help prevent Alzheimer's with diet?\"...</td>\n",
       "      <td>[(1525653998.0, 'https://metafact.io/factcheck...</td>\n",
       "      <td>NaN</td>\n",
       "      <td>Can we help prevent Alzheimer's with diet?</td>\n",
       "      <td>NaN</td>\n",
       "      <td>Can we help prevent Alzheimer's with diet?</td>\n",
       "      <td>2</td>\n",
       "    </tr>\n",
       "    <tr>\n",
       "      <th>3</th>\n",
       "      <td>3</td>\n",
       "      <td>(' Do any benefits of alcohol outweigh the ris...</td>\n",
       "      <td>[(1525653998.0, 'https://metafact.io/factcheck...</td>\n",
       "      <td>NaN</td>\n",
       "      <td>Do any benefits of alcohol outweigh the risks?</td>\n",
       "      <td>NaN</td>\n",
       "      <td>Do any benefits of alcohol outweigh the risks?</td>\n",
       "      <td>3</td>\n",
       "    </tr>\n",
       "    <tr>\n",
       "      <th>4</th>\n",
       "      <td>4</td>\n",
       "      <td>(' Does acupuncture work for headaches?', ' Do...</td>\n",
       "      <td>[(1617955595.0, 'https://metafact.io/factcheck...</td>\n",
       "      <td>NaN</td>\n",
       "      <td>Does acupuncture work for headaches?</td>\n",
       "      <td>NaN</td>\n",
       "      <td>Does acupuncture work for headaches?</td>\n",
       "      <td>4</td>\n",
       "    </tr>\n",
       "    <tr>\n",
       "      <th>...</th>\n",
       "      <td>...</td>\n",
       "      <td>...</td>\n",
       "      <td>...</td>\n",
       "      <td>...</td>\n",
       "      <td>...</td>\n",
       "      <td>...</td>\n",
       "      <td>...</td>\n",
       "      <td>...</td>\n",
       "    </tr>\n",
       "    <tr>\n",
       "      <th>153738</th>\n",
       "      <td>205744</td>\n",
       "      <td>('🇫🇷 في فرنسا ، يقرر رجال الشرطة العسكرية والم...</td>\n",
       "      <td>[(1617976680.0, 'https://factuel.afp.com/ar/Fr...</td>\n",
       "      <td>('هذا الفيديو ليس لتحرّك الشرطة الفرنسيّة ضدّ ...</td>\n",
       "      <td>🇫🇷 في فرنسا ، يقرر رجال الشرطة العسكرية والمدن...</td>\n",
       "      <td>هذا الفيديو ليس لتحرّك الشرطة الفرنسيّة ضدّ ال...</td>\n",
       "      <td>🇫🇷 في فرنسا ، يقرر رجال الشرطة العسكرية والمدن...</td>\n",
       "      <td>205744</td>\n",
       "    </tr>\n",
       "    <tr>\n",
       "      <th>153739</th>\n",
       "      <td>205745</td>\n",
       "      <td>('👆This little beautiful girl was seen in Mang...</td>\n",
       "      <td>[(1576281540.0, 'https://youturn.in/articles/c...</td>\n",
       "      <td>('மங்களூரில் பிச்சை எடுக்கும் குழுவில் மீட்கப்...</td>\n",
       "      <td>👆This little beautiful girl was seen in Mangal...</td>\n",
       "      <td>மங்களூரில் பிச்சை எடுக்கும் குழுவில் மீட்கப்பட...</td>\n",
       "      <td>👆This little beautiful girl was seen in Mangal...</td>\n",
       "      <td>205745</td>\n",
       "    </tr>\n",
       "    <tr>\n",
       "      <th>153740</th>\n",
       "      <td>205747</td>\n",
       "      <td>('📌إيطاليين و أجانب رجال و نساء ، أطفال و عجزة...</td>\n",
       "      <td>[(1616693700.0, 'https://factuel.afp.com/ar/th...</td>\n",
       "      <td>('هذه الصور لطابورٍ أمام مركز توزيع مساعدات غذ...</td>\n",
       "      <td>📌إيطاليين و أجانب رجال و نساء ، أطفال و عجزة ا...</td>\n",
       "      <td>هذه الصور لطابورٍ أمام مركز توزيع مساعدات غذائ...</td>\n",
       "      <td>📌إيطاليين و أجانب رجال و نساء ، أطفال و عجزة ا...</td>\n",
       "      <td>205747</td>\n",
       "    </tr>\n",
       "    <tr>\n",
       "      <th>153741</th>\n",
       "      <td>205749</td>\n",
       "      <td>('🔵Confirmado... Amanhã acabarão as mensagens ...</td>\n",
       "      <td>[(1570924680.0, 'https://www.boatos.org/tecnol...</td>\n",
       "      <td>('WhatsApp vai cobrar 0.37 centavos por mensag...</td>\n",
       "      <td>🔵Confirmado... Amanhã acabarão as mensagens gr...</td>\n",
       "      <td>WhatsApp vai cobrar 0.37 centavos por mensagem...</td>\n",
       "      <td>🔵Confirmado... Amanhã acabarão as mensagens gr...</td>\n",
       "      <td>205749</td>\n",
       "    </tr>\n",
       "    <tr>\n",
       "      <th>153742</th>\n",
       "      <td>205750</td>\n",
       "      <td>('🕋🗃ABRIMOS A CAIXA PRETA DO BNDES.........\\n✅...</td>\n",
       "      <td>[(1574899140.0, 'https://projetocomprova.com.b...</td>\n",
       "      <td>('Post mistura dados verdadeiros com números i...</td>\n",
       "      <td>🕋🗃ABRIMOS A CAIXA PRETA DO BNDES.........\\n✅DU...</td>\n",
       "      <td>Post mistura dados verdadeiros com números inc...</td>\n",
       "      <td>🕋🗃ABRIMOS A CAIXA PRETA DO BNDES.........\\n✅DU...</td>\n",
       "      <td>205750</td>\n",
       "    </tr>\n",
       "  </tbody>\n",
       "</table>\n",
       "<p>153743 rows × 8 columns</p>\n",
       "</div>"
      ],
      "text/plain": [
       "        fact_check_id                                              claim  \\\n",
       "0                   0  (' Are avocados good for you?', ' Are avocados...   \n",
       "1                   1  (' Can animals have headaches?', ' Can animals...   \n",
       "2                   2  (\" Can we help prevent Alzheimer's with diet?\"...   \n",
       "3                   3  (' Do any benefits of alcohol outweigh the ris...   \n",
       "4                   4  (' Does acupuncture work for headaches?', ' Do...   \n",
       "...               ...                                                ...   \n",
       "153738         205744  ('🇫🇷 في فرنسا ، يقرر رجال الشرطة العسكرية والم...   \n",
       "153739         205745  ('👆This little beautiful girl was seen in Mang...   \n",
       "153740         205747  ('📌إيطاليين و أجانب رجال و نساء ، أطفال و عجزة...   \n",
       "153741         205749  ('🔵Confirmado... Amanhã acabarão as mensagens ...   \n",
       "153742         205750  ('🕋🗃ABRIMOS A CAIXA PRETA DO BNDES.........\\n✅...   \n",
       "\n",
       "                                                instances  \\\n",
       "0       [(1525653998.0, 'https://metafact.io/factcheck...   \n",
       "1       [(1617955634.0, 'https://metafact.io/factcheck...   \n",
       "2       [(1525653998.0, 'https://metafact.io/factcheck...   \n",
       "3       [(1525653998.0, 'https://metafact.io/factcheck...   \n",
       "4       [(1617955595.0, 'https://metafact.io/factcheck...   \n",
       "...                                                   ...   \n",
       "153738  [(1617976680.0, 'https://factuel.afp.com/ar/Fr...   \n",
       "153739  [(1576281540.0, 'https://youturn.in/articles/c...   \n",
       "153740  [(1616693700.0, 'https://factuel.afp.com/ar/th...   \n",
       "153741  [(1570924680.0, 'https://www.boatos.org/tecnol...   \n",
       "153742  [(1574899140.0, 'https://projetocomprova.com.b...   \n",
       "\n",
       "                                                    title  \\\n",
       "0                                                     NaN   \n",
       "1                                                     NaN   \n",
       "2                                                     NaN   \n",
       "3                                                     NaN   \n",
       "4                                                     NaN   \n",
       "...                                                   ...   \n",
       "153738  ('هذا الفيديو ليس لتحرّك الشرطة الفرنسيّة ضدّ ...   \n",
       "153739  ('மங்களூரில் பிச்சை எடுக்கும் குழுவில் மீட்கப்...   \n",
       "153740  ('هذه الصور لطابورٍ أمام مركز توزيع مساعدات غذ...   \n",
       "153741  ('WhatsApp vai cobrar 0.37 centavos por mensag...   \n",
       "153742  ('Post mistura dados verdadeiros com números i...   \n",
       "\n",
       "                                            claim_srclang  \\\n",
       "0                              Are avocados good for you?   \n",
       "1                             Can animals have headaches?   \n",
       "2              Can we help prevent Alzheimer's with diet?   \n",
       "3          Do any benefits of alcohol outweigh the risks?   \n",
       "4                    Does acupuncture work for headaches?   \n",
       "...                                                   ...   \n",
       "153738  🇫🇷 في فرنسا ، يقرر رجال الشرطة العسكرية والمدن...   \n",
       "153739  👆This little beautiful girl was seen in Mangal...   \n",
       "153740  📌إيطاليين و أجانب رجال و نساء ، أطفال و عجزة ا...   \n",
       "153741  🔵Confirmado... Amanhã acabarão as mensagens gr...   \n",
       "153742  🕋🗃ABRIMOS A CAIXA PRETA DO BNDES.........\\n✅DU...   \n",
       "\n",
       "                                            title_srclang  \\\n",
       "0                                                     NaN   \n",
       "1                                                     NaN   \n",
       "2                                                     NaN   \n",
       "3                                                     NaN   \n",
       "4                                                     NaN   \n",
       "...                                                   ...   \n",
       "153738  هذا الفيديو ليس لتحرّك الشرطة الفرنسيّة ضدّ ال...   \n",
       "153739  மங்களூரில் பிச்சை எடுக்கும் குழுவில் மீட்கப்பட...   \n",
       "153740  هذه الصور لطابورٍ أمام مركز توزيع مساعدات غذائ...   \n",
       "153741  WhatsApp vai cobrar 0.37 centavos por mensagem...   \n",
       "153742  Post mistura dados verdadeiros com números inc...   \n",
       "\n",
       "                                                      doc  doc_ids  \n",
       "0                             Are avocados good for you?         0  \n",
       "1                            Can animals have headaches?         1  \n",
       "2             Can we help prevent Alzheimer's with diet?         2  \n",
       "3         Do any benefits of alcohol outweigh the risks?         3  \n",
       "4                   Does acupuncture work for headaches?         4  \n",
       "...                                                   ...      ...  \n",
       "153738  🇫🇷 في فرنسا ، يقرر رجال الشرطة العسكرية والمدن...   205744  \n",
       "153739  👆This little beautiful girl was seen in Mangal...   205745  \n",
       "153740  📌إيطاليين و أجانب رجال و نساء ، أطفال و عجزة ا...   205747  \n",
       "153741  🔵Confirmado... Amanhã acabarão as mensagens gr...   205749  \n",
       "153742  🕋🗃ABRIMOS A CAIXA PRETA DO BNDES.........\\n✅DU...   205750  \n",
       "\n",
       "[153743 rows x 8 columns]"
      ]
     },
     "execution_count": 90,
     "metadata": {},
     "output_type": "execute_result"
    }
   ],
   "source": [
    "df_docs"
   ]
  },
  {
   "cell_type": "code",
   "execution_count": 124,
   "id": "67b27e87-24ca-4aa5-ac19-b1ef30bb5ded",
   "metadata": {},
   "outputs": [],
   "source": [
    "qrels = {}\n",
    "run = {} \n",
    "run[str(3)] = {} \n",
    "qrels[str(3)] = {}\n",
    "qrels['3']['50973'] = 1 \n",
    "run['3']['52474'] = '0.69548714'"
   ]
  },
  {
   "cell_type": "code",
   "execution_count": 115,
   "id": "5f85aacd-1372-4d47-8147-047066c52517",
   "metadata": {},
   "outputs": [
    {
     "data": {
      "text/plain": [
       "dict"
      ]
     },
     "execution_count": 115,
     "metadata": {},
     "output_type": "execute_result"
    }
   ],
   "source": [
    "type(qrels)"
   ]
  },
  {
   "cell_type": "code",
   "execution_count": 116,
   "id": "73bdd5e6-2ebb-465a-b777-ea03b759e02a",
   "metadata": {},
   "outputs": [
    {
     "data": {
      "text/plain": [
       "{'3': {'52474': 0.69548714, '50973': 0.6737824}}"
      ]
     },
     "execution_count": 116,
     "metadata": {},
     "output_type": "execute_result"
    }
   ],
   "source": [
    "run"
   ]
  },
  {
   "cell_type": "code",
   "execution_count": 125,
   "id": "a20ab4d3-bc1a-47b2-8678-ad1e2f763e88",
   "metadata": {},
   "outputs": [
    {
     "ename": "TypeError",
     "evalue": "Unable to extract query/object scores.",
     "output_type": "error",
     "traceback": [
      "\u001b[0;31m---------------------------------------------------------------------------\u001b[0m",
      "\u001b[0;31mTypeError\u001b[0m                                 Traceback (most recent call last)",
      "Cell \u001b[0;32mIn[125], line 2\u001b[0m\n\u001b[1;32m      1\u001b[0m evaluator \u001b[38;5;241m=\u001b[39m pytrec_eval\u001b[38;5;241m.\u001b[39mRelevanceEvaluator(qrels,[\u001b[38;5;124m'\u001b[39m\u001b[38;5;124mP_3\u001b[39m\u001b[38;5;124m'\u001b[39m, \u001b[38;5;124m'\u001b[39m\u001b[38;5;124mP_5\u001b[39m\u001b[38;5;124m'\u001b[39m, \u001b[38;5;124m'\u001b[39m\u001b[38;5;124mP_10\u001b[39m\u001b[38;5;124m'\u001b[39m, \u001b[38;5;124m'\u001b[39m\u001b[38;5;124mmap_cut_3\u001b[39m\u001b[38;5;124m'\u001b[39m, \u001b[38;5;124m'\u001b[39m\u001b[38;5;124mmap_cut_5\u001b[39m\u001b[38;5;124m'\u001b[39m, \u001b[38;5;124m'\u001b[39m\u001b[38;5;124mmap_cut_10\u001b[39m\u001b[38;5;124m'\u001b[39m, \u001b[38;5;124m'\u001b[39m\u001b[38;5;124mndcg_cut_3\u001b[39m\u001b[38;5;124m'\u001b[39m, \u001b[38;5;124m'\u001b[39m\u001b[38;5;124mndcg_cut_5\u001b[39m\u001b[38;5;124m'\u001b[39m, \u001b[38;5;124m'\u001b[39m\u001b[38;5;124mndcg_cut_10\u001b[39m\u001b[38;5;124m'\u001b[39m])\n\u001b[0;32m----> 2\u001b[0m results_scores \u001b[38;5;241m=\u001b[39m \u001b[43mevaluator\u001b[49m\u001b[38;5;241;43m.\u001b[39;49m\u001b[43mevaluate\u001b[49m\u001b[43m(\u001b[49m\u001b[43mrun\u001b[49m\u001b[43m)\u001b[49m\n\u001b[1;32m      3\u001b[0m \u001b[38;5;28mprint\u001b[39m(results_scores)\n",
      "File \u001b[0;32m~/miniconda3/envs/pyserini/lib/python3.10/site-packages/pytrec_eval/__init__.py:64\u001b[0m, in \u001b[0;36mRelevanceEvaluator.evaluate\u001b[0;34m(self, scores)\u001b[0m\n\u001b[1;32m     62\u001b[0m \u001b[38;5;28;01mif\u001b[39;00m \u001b[38;5;129;01mnot\u001b[39;00m scores:\n\u001b[1;32m     63\u001b[0m     \u001b[38;5;28;01mreturn\u001b[39;00m {}\n\u001b[0;32m---> 64\u001b[0m \u001b[38;5;28;01mreturn\u001b[39;00m \u001b[38;5;28;43msuper\u001b[39;49m\u001b[43m(\u001b[49m\u001b[43m)\u001b[49m\u001b[38;5;241;43m.\u001b[39;49m\u001b[43mevaluate\u001b[49m\u001b[43m(\u001b[49m\u001b[43mscores\u001b[49m\u001b[43m)\u001b[49m\n",
      "\u001b[0;31mTypeError\u001b[0m: Unable to extract query/object scores."
     ]
    }
   ],
   "source": [
    "evaluator = pytrec_eval.RelevanceEvaluator(qrels,['P_3', 'P_5', 'P_10', 'map_cut_3', 'map_cut_5', 'map_cut_10', 'ndcg_cut_3', 'ndcg_cut_5', 'ndcg_cut_10'])\n",
    "results_scores = evaluator.evaluate(run)\n",
    "print(results_scores)"
   ]
  },
  {
   "cell_type": "code",
   "execution_count": 103,
   "id": "54370f80-2148-4b87-a7d2-850a1fddaa22",
   "metadata": {},
   "outputs": [
    {
     "data": {
      "text/plain": [
       "dict"
      ]
     },
     "execution_count": 103,
     "metadata": {},
     "output_type": "execute_result"
    }
   ],
   "source": [
    "type(qrels)"
   ]
  },
  {
   "cell_type": "code",
   "execution_count": null,
   "id": "e89e213c-e035-4f90-b2f6-eaf975b0f694",
   "metadata": {},
   "outputs": [],
   "source": []
  },
  {
   "cell_type": "code",
   "execution_count": 106,
   "id": "f0b0081a-0213-4b80-ab91-75ff6a03fe15",
   "metadata": {},
   "outputs": [
    {
     "data": {
      "text/plain": [
       "<pytrec_eval.RelevanceEvaluator at 0x71a6e4293d80>"
      ]
     },
     "execution_count": 106,
     "metadata": {},
     "output_type": "execute_result"
    }
   ],
   "source": [
    "evaluator"
   ]
  },
  {
   "cell_type": "code",
   "execution_count": null,
   "id": "49be4ead-98b9-4848-b4f8-e14877da7954",
   "metadata": {},
   "outputs": [],
   "source": []
  }
 ],
 "metadata": {
  "kernelspec": {
   "display_name": "Python 3 (ipykernel)",
   "language": "python",
   "name": "python3"
  },
  "language_info": {
   "codemirror_mode": {
    "name": "ipython",
    "version": 3
   },
   "file_extension": ".py",
   "mimetype": "text/x-python",
   "name": "python",
   "nbconvert_exporter": "python",
   "pygments_lexer": "ipython3",
   "version": "3.11.0"
  }
 },
 "nbformat": 4,
 "nbformat_minor": 5
}
